{
  "nbformat": 4,
  "nbformat_minor": 0,
  "metadata": {
    "colab": {
      "name": "Session_5_6_EXERCISES.ipynb",
      "provenance": []
    },
    "kernelspec": {
      "name": "python3",
      "display_name": "Python 3"
    }
  },
  "cells": [
    {
      "cell_type": "markdown",
      "metadata": {
        "id": "pAZuMYToPGCo"
      },
      "source": [
        "![BTS](https://github.com/vfp1/bts-dsf-2020/blob/main/Logo-BTS.jpg?raw=1)\n",
        "\n",
        "# Assignement Session 5 and 6\n",
        "\n",
        "### Victor F. Pajuelo Madrigal <victor.pajuelo@bts.tech> - Data Science Foundations (2020-11-12)\n",
        "\n",
        "Open this notebook in Google Colaboratory: [![Open in Colab](https://colab.research.google.com/assets/colab-badge.svg)](https://colab.research.google.com/github/vfp1/bts-dsf-2020/blob/main/exercises/Session_5_6_EXERCISES.ipynb)"
      ]
    },
    {
      "cell_type": "markdown",
      "metadata": {
        "id": "9cbq2uxzPURW"
      },
      "source": [
        "# EXERCISE 1: image filtering\n",
        "\n",
        "From the datasets (images) available from [skimage data](https://scikit-image.org/docs/dev/api/skimage.data.html), choose an **RGB** image and do the following:\n",
        "\n",
        "* Crop the image\n",
        "* Smoothen the image with a kernel filter.\n",
        "* Sharpen the image with a kernel filter\n",
        "* Find the edges of the image with at least two different methods.\n",
        "* From the processes above, save the image that you prefer as a .jpg"
      ]
    },
    {
      "cell_type": "markdown",
      "metadata": {
        "id": "-NhgHuiFPhhR"
      },
      "source": [
        "# EXERCISE 2: semi-super resolution!\n",
        "\n",
        "Take one image on your own (or one blurred image from somewhere) and apply the techniques we have seen in class to sharpen an image from a blurred one. You can also blur one image of your own as a start."
      ]
    },
    {
      "cell_type": "markdown",
      "metadata": {
        "id": "ruKcW7gYPYMf"
      },
      "source": [
        "# EXERCISE 3: image segmentation\n",
        "Take a picture with your phone or your camera of some objects that you want to count. (Beware: try to take high contrast images with a stable background, preferably dark over white or similar such as coins, chessboard, etc.).\n",
        "\n",
        "Load the image with scikit image\n",
        "Count the objects in the image using region based segmentation\n",
        "Try to fix the image using opening/closing algorithms"
      ]
    },
    {
      "cell_type": "code",
      "metadata": {
        "id": "QJ7DS2krPZAV"
      },
      "source": [
        ""
      ],
      "execution_count": null,
      "outputs": []
    }
  ]
}