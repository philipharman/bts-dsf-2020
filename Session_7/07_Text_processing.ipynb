{
  "nbformat": 4,
  "nbformat_minor": 0,
  "metadata": {
    "colab": {
      "name": "07_Text_processing.ipynb",
      "provenance": [],
      "collapsed_sections": [],
      "toc_visible": true
    },
    "kernelspec": {
      "name": "python3",
      "display_name": "Python 3"
    },
    "accelerator": "GPU"
  },
  "cells": [
    {
      "cell_type": "markdown",
      "metadata": {
        "id": "_a2hajcA99-K"
      },
      "source": [
        "![BTS](https://github.com/vfp1/bts-dsf-2020/blob/main/Logo-BTS.jpg?raw=1)\n",
        "\n",
        "# Session /: Text processing - Introduction to Spacy\n",
        "\n",
        "### Victor F. Pajuelo Madrigal <victor.pajuelo@bts.tech> - Data Science Foundations (2020-11-17)\n",
        "\n",
        "Open this notebook in Google Colaboratory: [![Open in Colab](https://colab.research.google.com/assets/colab-badge.svg)](https://colab.research.google.com/github/vfp1/bts-dsf-2020/blob/main/Session_7/07_Text_processing.ipynb)\n",
        "\n",
        "**Resources:**\n",
        "* Spacy website"
      ]
    },
    {
      "cell_type": "markdown",
      "metadata": {
        "id": "DTIcPknwQz5z"
      },
      "source": [
        "# Spacy installation\n",
        "\n",
        "```\n",
        "$ conda activate bts36\n",
        "$ conda install -c conda-forge spacy\n",
        "```\n",
        "\n"
      ]
    },
    {
      "cell_type": "markdown",
      "metadata": {
        "id": "Oabpc-xuVxAQ"
      },
      "source": [
        "# Spacy introduction"
      ]
    },
    {
      "cell_type": "markdown",
      "metadata": {
        "id": "2QHBivImfOvp"
      },
      "source": [
        "## Import language models \n",
        "\n",
        "\n",
        "\n",
        "```\n",
        "$ python -m spacy download en_core_web_sm\n",
        "$ python -m spacy download en\n",
        "```\n",
        "\n"
      ]
    },
    {
      "cell_type": "code",
      "metadata": {
        "id": "nPv81PAORYB7",
        "outputId": "d0c8c35a-642b-4ee6-f482-43bf0e5938ff",
        "colab": {
          "base_uri": "https://localhost:8080/"
        }
      },
      "source": [
        "!python -m spacy download en_core_web_sm"
      ],
      "execution_count": 1,
      "outputs": [
        {
          "output_type": "stream",
          "text": [
            "Requirement already satisfied: en_core_web_sm==2.2.5 from https://github.com/explosion/spacy-models/releases/download/en_core_web_sm-2.2.5/en_core_web_sm-2.2.5.tar.gz#egg=en_core_web_sm==2.2.5 in /usr/local/lib/python3.6/dist-packages (2.2.5)\n",
            "Requirement already satisfied: spacy>=2.2.2 in /usr/local/lib/python3.6/dist-packages (from en_core_web_sm==2.2.5) (2.2.4)\n",
            "Requirement already satisfied: wasabi<1.1.0,>=0.4.0 in /usr/local/lib/python3.6/dist-packages (from spacy>=2.2.2->en_core_web_sm==2.2.5) (0.8.0)\n",
            "Requirement already satisfied: srsly<1.1.0,>=1.0.2 in /usr/local/lib/python3.6/dist-packages (from spacy>=2.2.2->en_core_web_sm==2.2.5) (1.0.2)\n",
            "Requirement already satisfied: setuptools in /usr/local/lib/python3.6/dist-packages (from spacy>=2.2.2->en_core_web_sm==2.2.5) (50.3.2)\n",
            "Requirement already satisfied: plac<1.2.0,>=0.9.6 in /usr/local/lib/python3.6/dist-packages (from spacy>=2.2.2->en_core_web_sm==2.2.5) (1.1.3)\n",
            "Requirement already satisfied: numpy>=1.15.0 in /usr/local/lib/python3.6/dist-packages (from spacy>=2.2.2->en_core_web_sm==2.2.5) (1.18.5)\n",
            "Requirement already satisfied: tqdm<5.0.0,>=4.38.0 in /usr/local/lib/python3.6/dist-packages (from spacy>=2.2.2->en_core_web_sm==2.2.5) (4.41.1)\n",
            "Requirement already satisfied: blis<0.5.0,>=0.4.0 in /usr/local/lib/python3.6/dist-packages (from spacy>=2.2.2->en_core_web_sm==2.2.5) (0.4.1)\n",
            "Requirement already satisfied: thinc==7.4.0 in /usr/local/lib/python3.6/dist-packages (from spacy>=2.2.2->en_core_web_sm==2.2.5) (7.4.0)\n",
            "Requirement already satisfied: cymem<2.1.0,>=2.0.2 in /usr/local/lib/python3.6/dist-packages (from spacy>=2.2.2->en_core_web_sm==2.2.5) (2.0.4)\n",
            "Requirement already satisfied: preshed<3.1.0,>=3.0.2 in /usr/local/lib/python3.6/dist-packages (from spacy>=2.2.2->en_core_web_sm==2.2.5) (3.0.2)\n",
            "Requirement already satisfied: requests<3.0.0,>=2.13.0 in /usr/local/lib/python3.6/dist-packages (from spacy>=2.2.2->en_core_web_sm==2.2.5) (2.23.0)\n",
            "Requirement already satisfied: catalogue<1.1.0,>=0.0.7 in /usr/local/lib/python3.6/dist-packages (from spacy>=2.2.2->en_core_web_sm==2.2.5) (1.0.0)\n",
            "Requirement already satisfied: murmurhash<1.1.0,>=0.28.0 in /usr/local/lib/python3.6/dist-packages (from spacy>=2.2.2->en_core_web_sm==2.2.5) (1.0.3)\n",
            "Requirement already satisfied: idna<3,>=2.5 in /usr/local/lib/python3.6/dist-packages (from requests<3.0.0,>=2.13.0->spacy>=2.2.2->en_core_web_sm==2.2.5) (2.10)\n",
            "Requirement already satisfied: certifi>=2017.4.17 in /usr/local/lib/python3.6/dist-packages (from requests<3.0.0,>=2.13.0->spacy>=2.2.2->en_core_web_sm==2.2.5) (2020.6.20)\n",
            "Requirement already satisfied: urllib3!=1.25.0,!=1.25.1,<1.26,>=1.21.1 in /usr/local/lib/python3.6/dist-packages (from requests<3.0.0,>=2.13.0->spacy>=2.2.2->en_core_web_sm==2.2.5) (1.24.3)\n",
            "Requirement already satisfied: chardet<4,>=3.0.2 in /usr/local/lib/python3.6/dist-packages (from requests<3.0.0,>=2.13.0->spacy>=2.2.2->en_core_web_sm==2.2.5) (3.0.4)\n",
            "Requirement already satisfied: importlib-metadata>=0.20; python_version < \"3.8\" in /usr/local/lib/python3.6/dist-packages (from catalogue<1.1.0,>=0.0.7->spacy>=2.2.2->en_core_web_sm==2.2.5) (2.0.0)\n",
            "Requirement already satisfied: zipp>=0.5 in /usr/local/lib/python3.6/dist-packages (from importlib-metadata>=0.20; python_version < \"3.8\"->catalogue<1.1.0,>=0.0.7->spacy>=2.2.2->en_core_web_sm==2.2.5) (3.4.0)\n",
            "\u001b[38;5;2m✔ Download and installation successful\u001b[0m\n",
            "You can now load the model via spacy.load('en_core_web_sm')\n"
          ],
          "name": "stdout"
        }
      ]
    },
    {
      "cell_type": "code",
      "metadata": {
        "id": "8mQRg-8jfzDI",
        "outputId": "3d5d38cb-8111-4882-8bee-ca0ee4ca9530",
        "colab": {
          "base_uri": "https://localhost:8080/"
        }
      },
      "source": [
        "!python -m spacy download en"
      ],
      "execution_count": 2,
      "outputs": [
        {
          "output_type": "stream",
          "text": [
            "Requirement already satisfied: en_core_web_sm==2.2.5 from https://github.com/explosion/spacy-models/releases/download/en_core_web_sm-2.2.5/en_core_web_sm-2.2.5.tar.gz#egg=en_core_web_sm==2.2.5 in /usr/local/lib/python3.6/dist-packages (2.2.5)\n",
            "Requirement already satisfied: spacy>=2.2.2 in /usr/local/lib/python3.6/dist-packages (from en_core_web_sm==2.2.5) (2.2.4)\n",
            "Requirement already satisfied: thinc==7.4.0 in /usr/local/lib/python3.6/dist-packages (from spacy>=2.2.2->en_core_web_sm==2.2.5) (7.4.0)\n",
            "Requirement already satisfied: setuptools in /usr/local/lib/python3.6/dist-packages (from spacy>=2.2.2->en_core_web_sm==2.2.5) (50.3.2)\n",
            "Requirement already satisfied: wasabi<1.1.0,>=0.4.0 in /usr/local/lib/python3.6/dist-packages (from spacy>=2.2.2->en_core_web_sm==2.2.5) (0.8.0)\n",
            "Requirement already satisfied: preshed<3.1.0,>=3.0.2 in /usr/local/lib/python3.6/dist-packages (from spacy>=2.2.2->en_core_web_sm==2.2.5) (3.0.2)\n",
            "Requirement already satisfied: catalogue<1.1.0,>=0.0.7 in /usr/local/lib/python3.6/dist-packages (from spacy>=2.2.2->en_core_web_sm==2.2.5) (1.0.0)\n",
            "Requirement already satisfied: murmurhash<1.1.0,>=0.28.0 in /usr/local/lib/python3.6/dist-packages (from spacy>=2.2.2->en_core_web_sm==2.2.5) (1.0.3)\n",
            "Requirement already satisfied: blis<0.5.0,>=0.4.0 in /usr/local/lib/python3.6/dist-packages (from spacy>=2.2.2->en_core_web_sm==2.2.5) (0.4.1)\n",
            "Requirement already satisfied: plac<1.2.0,>=0.9.6 in /usr/local/lib/python3.6/dist-packages (from spacy>=2.2.2->en_core_web_sm==2.2.5) (1.1.3)\n",
            "Requirement already satisfied: tqdm<5.0.0,>=4.38.0 in /usr/local/lib/python3.6/dist-packages (from spacy>=2.2.2->en_core_web_sm==2.2.5) (4.41.1)\n",
            "Requirement already satisfied: srsly<1.1.0,>=1.0.2 in /usr/local/lib/python3.6/dist-packages (from spacy>=2.2.2->en_core_web_sm==2.2.5) (1.0.2)\n",
            "Requirement already satisfied: numpy>=1.15.0 in /usr/local/lib/python3.6/dist-packages (from spacy>=2.2.2->en_core_web_sm==2.2.5) (1.18.5)\n",
            "Requirement already satisfied: requests<3.0.0,>=2.13.0 in /usr/local/lib/python3.6/dist-packages (from spacy>=2.2.2->en_core_web_sm==2.2.5) (2.23.0)\n",
            "Requirement already satisfied: cymem<2.1.0,>=2.0.2 in /usr/local/lib/python3.6/dist-packages (from spacy>=2.2.2->en_core_web_sm==2.2.5) (2.0.4)\n",
            "Requirement already satisfied: importlib-metadata>=0.20; python_version < \"3.8\" in /usr/local/lib/python3.6/dist-packages (from catalogue<1.1.0,>=0.0.7->spacy>=2.2.2->en_core_web_sm==2.2.5) (2.0.0)\n",
            "Requirement already satisfied: chardet<4,>=3.0.2 in /usr/local/lib/python3.6/dist-packages (from requests<3.0.0,>=2.13.0->spacy>=2.2.2->en_core_web_sm==2.2.5) (3.0.4)\n",
            "Requirement already satisfied: urllib3!=1.25.0,!=1.25.1,<1.26,>=1.21.1 in /usr/local/lib/python3.6/dist-packages (from requests<3.0.0,>=2.13.0->spacy>=2.2.2->en_core_web_sm==2.2.5) (1.24.3)\n",
            "Requirement already satisfied: certifi>=2017.4.17 in /usr/local/lib/python3.6/dist-packages (from requests<3.0.0,>=2.13.0->spacy>=2.2.2->en_core_web_sm==2.2.5) (2020.6.20)\n",
            "Requirement already satisfied: idna<3,>=2.5 in /usr/local/lib/python3.6/dist-packages (from requests<3.0.0,>=2.13.0->spacy>=2.2.2->en_core_web_sm==2.2.5) (2.10)\n",
            "Requirement already satisfied: zipp>=0.5 in /usr/local/lib/python3.6/dist-packages (from importlib-metadata>=0.20; python_version < \"3.8\"->catalogue<1.1.0,>=0.0.7->spacy>=2.2.2->en_core_web_sm==2.2.5) (3.4.0)\n",
            "\u001b[38;5;2m✔ Download and installation successful\u001b[0m\n",
            "You can now load the model via spacy.load('en_core_web_sm')\n",
            "\u001b[38;5;2m✔ Linking successful\u001b[0m\n",
            "/usr/local/lib/python3.6/dist-packages/en_core_web_sm -->\n",
            "/usr/local/lib/python3.6/dist-packages/spacy/data/en\n",
            "You can now load the model via spacy.load('en')\n"
          ],
          "name": "stdout"
        }
      ]
    },
    {
      "cell_type": "markdown",
      "metadata": {
        "id": "UmwJHdwEU4uM"
      },
      "source": [
        "Once the model is downloaded and installed, we can load it as follows:"
      ]
    },
    {
      "cell_type": "code",
      "metadata": {
        "id": "IuuFgOdRRWif"
      },
      "source": [
        "import spacy\n",
        "nlp = spacy.load(\"en_core_web_sm\")"
      ],
      "execution_count": 3,
      "outputs": []
    },
    {
      "cell_type": "markdown",
      "metadata": {
        "id": "oDZS9UkeY3Td"
      },
      "source": [
        "## Linguistic annotations\n",
        "\n",
        "spaCy's linguistic annotation types:\n",
        "\n",
        "*   Word types\n",
        "*   Parts of speech\n",
        "*   How words are related to each other\n",
        "\n"
      ]
    },
    {
      "cell_type": "markdown",
      "metadata": {
        "id": "b-H7rJT8WNrg"
      },
      "source": [
        "### Word and sentence tokenization"
      ]
    },
    {
      "cell_type": "code",
      "metadata": {
        "id": "Nuob2h_df3mp"
      },
      "source": [
        "import spacy\n",
        "nlp = spacy.load(\"en_core_web_sm\")"
      ],
      "execution_count": 4,
      "outputs": []
    },
    {
      "cell_type": "code",
      "metadata": {
        "id": "kNGRET97Wj9R"
      },
      "source": [
        "text_sentence_1 = \"This is a class about text processing.\""
      ],
      "execution_count": 5,
      "outputs": []
    },
    {
      "cell_type": "code",
      "metadata": {
        "id": "MX8sFJkkW1OJ",
        "outputId": "a2734bd3-c33d-4fe8-d6d0-7aeba2c3a797",
        "colab": {
          "base_uri": "https://localhost:8080/"
        }
      },
      "source": [
        "# We pass the sentence to the doc\n",
        "doc1 = nlp(text_sentence_1)\n",
        "type(doc1)"
      ],
      "execution_count": 6,
      "outputs": [
        {
          "output_type": "execute_result",
          "data": {
            "text/plain": [
              "spacy.tokens.doc.Doc"
            ]
          },
          "metadata": {
            "tags": []
          },
          "execution_count": 6
        }
      ]
    },
    {
      "cell_type": "markdown",
      "metadata": {
        "id": "BX67YuReZgbC"
      },
      "source": [
        "[What is a **Doc**?](https://spacy.io/api/doc) It is a sequence of Token objects. Access sentences and named entities, export annotations to numpy arrays, losslessly serialize to compressed binary strings.\n",
        "\n",
        "And [what is a **Token**?](https://spacy.io/api/token) It is a word, punctuation symbol, whitespace, etcetera."
      ]
    },
    {
      "cell_type": "code",
      "metadata": {
        "id": "aLRjNrFIX87p",
        "outputId": "22120470-19cc-4a3e-b87a-f171b56d6e11",
        "colab": {
          "base_uri": "https://localhost:8080/"
        }
      },
      "source": [
        "# Let's tokenize th sentence\n",
        "for token in doc1:\n",
        "    print(token)"
      ],
      "execution_count": 7,
      "outputs": [
        {
          "output_type": "stream",
          "text": [
            "This\n",
            "is\n",
            "a\n",
            "class\n",
            "about\n",
            "text\n",
            "processing\n",
            ".\n"
          ],
          "name": "stdout"
        }
      ]
    },
    {
      "cell_type": "code",
      "metadata": {
        "id": "iHZ3mJkDbsHk",
        "outputId": "440bd0e4-5303-434a-f0c0-e4bccddd86d0",
        "colab": {
          "base_uri": "https://localhost:8080/"
        }
      },
      "source": [
        "doc1[0]"
      ],
      "execution_count": 8,
      "outputs": [
        {
          "output_type": "execute_result",
          "data": {
            "text/plain": [
              "This"
            ]
          },
          "metadata": {
            "tags": []
          },
          "execution_count": 8
        }
      ]
    },
    {
      "cell_type": "code",
      "metadata": {
        "id": "kCs2uD4ubz7h",
        "outputId": "4748eb9b-c7e9-4aa3-e6f2-5caa05b7792e",
        "colab": {
          "base_uri": "https://localhost:8080/"
        }
      },
      "source": [
        "doc1[-1]"
      ],
      "execution_count": 9,
      "outputs": [
        {
          "output_type": "execute_result",
          "data": {
            "text/plain": [
              "."
            ]
          },
          "metadata": {
            "tags": []
          },
          "execution_count": 9
        }
      ]
    },
    {
      "cell_type": "markdown",
      "metadata": {
        "id": "MwZLWEsWaill"
      },
      "source": [
        "#### Linguistic features/annotation\n",
        "spaCy does not only have a record the position as if we will be splitting the sentence. spaCy records the grammatical structure of the sentence. \n",
        "\n",
        "So after tokenization (splitting the sentence into the individual components), spaCy can do **Part-of-speech** (POS) tagging. This is done by using spaCy's statistical models to make predictions of what each token is. For instance, a word following \"the\" in the English is most likely a noun. And that's why we need language models.\n",
        "\n",
        "---\n",
        "\n",
        "We have the following features that we can get per token:\n",
        "\n",
        "*   **Text**: The original word text.\n",
        "*   **Lemma**: The base form of the word.\n",
        "*   **POS**: The simple part-of-speech tag.\n",
        "*   **Tag**: The detailed part-of-speech tag.\n",
        "*   **Dep**: Syntactic dependency, i.e. the relation between tokens.\n",
        "*   **Shape**: The word shape – capitalization, punctuation, digits.\n",
        "*   **is alpha**: Is the token an alphanumeric character?\n",
        "*   **is stop**: Is the token part of a stop list, i.e. the most common words of the language?\n",
        "\n",
        "\n",
        "\n"
      ]
    },
    {
      "cell_type": "code",
      "metadata": {
        "id": "jfW-ItssX_V3",
        "outputId": "dbc0e0f1-a85c-40c1-cf60-7f39eaf8bce2",
        "colab": {
          "base_uri": "https://localhost:8080/"
        }
      },
      "source": [
        "text_sentence_2 = \"The coffee this morning costed me $4, that is extremely expensive!\"\n",
        "doc2 = nlp(text_sentence_2)\n",
        "\n",
        "for token in doc2:\n",
        "    print(token.text, token.pos_, token.dep_)"
      ],
      "execution_count": 10,
      "outputs": [
        {
          "output_type": "stream",
          "text": [
            "The DET det\n",
            "coffee NOUN nsubj\n",
            "this DET det\n",
            "morning NOUN npadvmod\n",
            "costed VERB ROOT\n",
            "me PRON dative\n",
            "$ SYM nmod\n",
            "4 NUM dobj\n",
            ", PUNCT punct\n",
            "that DET nsubj\n",
            "is AUX ccomp\n",
            "extremely ADV advmod\n",
            "expensive ADJ acomp\n",
            "! PUNCT punct\n"
          ],
          "name": "stdout"
        }
      ]
    },
    {
      "cell_type": "code",
      "metadata": {
        "id": "KEthxKBmtMGD",
        "outputId": "323f8cdf-7e4c-4e41-df2d-0b297ec82a63",
        "colab": {
          "base_uri": "https://localhost:8080/",
          "height": 35
        }
      },
      "source": [
        "spacy.explain(\"npadvmod\")"
      ],
      "execution_count": 11,
      "outputs": [
        {
          "output_type": "execute_result",
          "data": {
            "application/vnd.google.colaboratory.intrinsic+json": {
              "type": "string"
            },
            "text/plain": [
              "'noun phrase as adverbial modifier'"
            ]
          },
          "metadata": {
            "tags": []
          },
          "execution_count": 11
        }
      ]
    },
    {
      "cell_type": "code",
      "metadata": {
        "id": "4wRjlK2uh4pL",
        "outputId": "ee086b8c-e1c2-4899-995e-e5dd795af027",
        "colab": {
          "base_uri": "https://localhost:8080/",
          "height": 483
        }
      },
      "source": [
        "# We can build a Pandas Dataframe with the contents of a token/doc loop, just for nice visualization\n",
        "import pandas as pd\n",
        "\n",
        "d = []\n",
        "for token in doc2:\n",
        "    d.append({'TEXT': token.text, 'LEMMA': token.lemma_, \n",
        "              'POS': token.pos_, 'TAG': token.tag_,\n",
        "              'DEP': token.dep_, 'SHAPE': token.shape_,\n",
        "              'ALPHA': token.is_alpha, 'STOP': token.is_stop})\n",
        "\n",
        "spacy_dataframe = pd.DataFrame(d)\n",
        "spacy_dataframe"
      ],
      "execution_count": 12,
      "outputs": [
        {
          "output_type": "execute_result",
          "data": {
            "text/html": [
              "<div>\n",
              "<style scoped>\n",
              "    .dataframe tbody tr th:only-of-type {\n",
              "        vertical-align: middle;\n",
              "    }\n",
              "\n",
              "    .dataframe tbody tr th {\n",
              "        vertical-align: top;\n",
              "    }\n",
              "\n",
              "    .dataframe thead th {\n",
              "        text-align: right;\n",
              "    }\n",
              "</style>\n",
              "<table border=\"1\" class=\"dataframe\">\n",
              "  <thead>\n",
              "    <tr style=\"text-align: right;\">\n",
              "      <th></th>\n",
              "      <th>TEXT</th>\n",
              "      <th>LEMMA</th>\n",
              "      <th>POS</th>\n",
              "      <th>TAG</th>\n",
              "      <th>DEP</th>\n",
              "      <th>SHAPE</th>\n",
              "      <th>ALPHA</th>\n",
              "      <th>STOP</th>\n",
              "    </tr>\n",
              "  </thead>\n",
              "  <tbody>\n",
              "    <tr>\n",
              "      <th>0</th>\n",
              "      <td>The</td>\n",
              "      <td>the</td>\n",
              "      <td>DET</td>\n",
              "      <td>DT</td>\n",
              "      <td>det</td>\n",
              "      <td>Xxx</td>\n",
              "      <td>True</td>\n",
              "      <td>True</td>\n",
              "    </tr>\n",
              "    <tr>\n",
              "      <th>1</th>\n",
              "      <td>coffee</td>\n",
              "      <td>coffee</td>\n",
              "      <td>NOUN</td>\n",
              "      <td>NN</td>\n",
              "      <td>nsubj</td>\n",
              "      <td>xxxx</td>\n",
              "      <td>True</td>\n",
              "      <td>False</td>\n",
              "    </tr>\n",
              "    <tr>\n",
              "      <th>2</th>\n",
              "      <td>this</td>\n",
              "      <td>this</td>\n",
              "      <td>DET</td>\n",
              "      <td>DT</td>\n",
              "      <td>det</td>\n",
              "      <td>xxxx</td>\n",
              "      <td>True</td>\n",
              "      <td>True</td>\n",
              "    </tr>\n",
              "    <tr>\n",
              "      <th>3</th>\n",
              "      <td>morning</td>\n",
              "      <td>morning</td>\n",
              "      <td>NOUN</td>\n",
              "      <td>NN</td>\n",
              "      <td>npadvmod</td>\n",
              "      <td>xxxx</td>\n",
              "      <td>True</td>\n",
              "      <td>False</td>\n",
              "    </tr>\n",
              "    <tr>\n",
              "      <th>4</th>\n",
              "      <td>costed</td>\n",
              "      <td>cost</td>\n",
              "      <td>VERB</td>\n",
              "      <td>VBD</td>\n",
              "      <td>ROOT</td>\n",
              "      <td>xxxx</td>\n",
              "      <td>True</td>\n",
              "      <td>False</td>\n",
              "    </tr>\n",
              "    <tr>\n",
              "      <th>5</th>\n",
              "      <td>me</td>\n",
              "      <td>-PRON-</td>\n",
              "      <td>PRON</td>\n",
              "      <td>PRP</td>\n",
              "      <td>dative</td>\n",
              "      <td>xx</td>\n",
              "      <td>True</td>\n",
              "      <td>True</td>\n",
              "    </tr>\n",
              "    <tr>\n",
              "      <th>6</th>\n",
              "      <td>$</td>\n",
              "      <td>$</td>\n",
              "      <td>SYM</td>\n",
              "      <td>$</td>\n",
              "      <td>nmod</td>\n",
              "      <td>$</td>\n",
              "      <td>False</td>\n",
              "      <td>False</td>\n",
              "    </tr>\n",
              "    <tr>\n",
              "      <th>7</th>\n",
              "      <td>4</td>\n",
              "      <td>4</td>\n",
              "      <td>NUM</td>\n",
              "      <td>CD</td>\n",
              "      <td>dobj</td>\n",
              "      <td>d</td>\n",
              "      <td>False</td>\n",
              "      <td>False</td>\n",
              "    </tr>\n",
              "    <tr>\n",
              "      <th>8</th>\n",
              "      <td>,</td>\n",
              "      <td>,</td>\n",
              "      <td>PUNCT</td>\n",
              "      <td>,</td>\n",
              "      <td>punct</td>\n",
              "      <td>,</td>\n",
              "      <td>False</td>\n",
              "      <td>False</td>\n",
              "    </tr>\n",
              "    <tr>\n",
              "      <th>9</th>\n",
              "      <td>that</td>\n",
              "      <td>that</td>\n",
              "      <td>DET</td>\n",
              "      <td>WDT</td>\n",
              "      <td>nsubj</td>\n",
              "      <td>xxxx</td>\n",
              "      <td>True</td>\n",
              "      <td>True</td>\n",
              "    </tr>\n",
              "    <tr>\n",
              "      <th>10</th>\n",
              "      <td>is</td>\n",
              "      <td>be</td>\n",
              "      <td>AUX</td>\n",
              "      <td>VBZ</td>\n",
              "      <td>ccomp</td>\n",
              "      <td>xx</td>\n",
              "      <td>True</td>\n",
              "      <td>True</td>\n",
              "    </tr>\n",
              "    <tr>\n",
              "      <th>11</th>\n",
              "      <td>extremely</td>\n",
              "      <td>extremely</td>\n",
              "      <td>ADV</td>\n",
              "      <td>RB</td>\n",
              "      <td>advmod</td>\n",
              "      <td>xxxx</td>\n",
              "      <td>True</td>\n",
              "      <td>False</td>\n",
              "    </tr>\n",
              "    <tr>\n",
              "      <th>12</th>\n",
              "      <td>expensive</td>\n",
              "      <td>expensive</td>\n",
              "      <td>ADJ</td>\n",
              "      <td>JJ</td>\n",
              "      <td>acomp</td>\n",
              "      <td>xxxx</td>\n",
              "      <td>True</td>\n",
              "      <td>False</td>\n",
              "    </tr>\n",
              "    <tr>\n",
              "      <th>13</th>\n",
              "      <td>!</td>\n",
              "      <td>!</td>\n",
              "      <td>PUNCT</td>\n",
              "      <td>.</td>\n",
              "      <td>punct</td>\n",
              "      <td>!</td>\n",
              "      <td>False</td>\n",
              "      <td>False</td>\n",
              "    </tr>\n",
              "  </tbody>\n",
              "</table>\n",
              "</div>"
            ],
            "text/plain": [
              "         TEXT      LEMMA    POS  TAG       DEP SHAPE  ALPHA   STOP\n",
              "0         The        the    DET   DT       det   Xxx   True   True\n",
              "1      coffee     coffee   NOUN   NN     nsubj  xxxx   True  False\n",
              "2        this       this    DET   DT       det  xxxx   True   True\n",
              "3     morning    morning   NOUN   NN  npadvmod  xxxx   True  False\n",
              "4      costed       cost   VERB  VBD      ROOT  xxxx   True  False\n",
              "5          me     -PRON-   PRON  PRP    dative    xx   True   True\n",
              "6           $          $    SYM    $      nmod     $  False  False\n",
              "7           4          4    NUM   CD      dobj     d  False  False\n",
              "8           ,          ,  PUNCT    ,     punct     ,  False  False\n",
              "9        that       that    DET  WDT     nsubj  xxxx   True   True\n",
              "10         is         be    AUX  VBZ     ccomp    xx   True   True\n",
              "11  extremely  extremely    ADV   RB    advmod  xxxx   True  False\n",
              "12  expensive  expensive    ADJ   JJ     acomp  xxxx   True  False\n",
              "13          !          !  PUNCT    .     punct     !  False  False"
            ]
          },
          "metadata": {
            "tags": []
          },
          "execution_count": 12
        }
      ]
    },
    {
      "cell_type": "markdown",
      "metadata": {
        "id": "uUrOgHNmelLB"
      },
      "source": [
        "#### Do not feel lost! Let's visualize this."
      ]
    },
    {
      "cell_type": "code",
      "metadata": {
        "id": "mlStXKJZenzG",
        "outputId": "86f9535d-2056-408f-a8bb-cde63c084842",
        "colab": {
          "base_uri": "https://localhost:8080/",
          "height": 35
        }
      },
      "source": [
        "# We can use spacy.explain when lost\n",
        "spacy.explain(\"VBZ\")"
      ],
      "execution_count": 13,
      "outputs": [
        {
          "output_type": "execute_result",
          "data": {
            "application/vnd.google.colaboratory.intrinsic+json": {
              "type": "string"
            },
            "text/plain": [
              "'verb, 3rd person singular present'"
            ]
          },
          "metadata": {
            "tags": []
          },
          "execution_count": 13
        }
      ]
    },
    {
      "cell_type": "code",
      "metadata": {
        "id": "JkIRfHLbkaF8",
        "outputId": "4cd378dd-6ed8-4d14-a291-df8de223539e",
        "colab": {
          "base_uri": "https://localhost:8080/",
          "height": 35
        }
      },
      "source": [
        "spacy.explain(\"advmod\")"
      ],
      "execution_count": 14,
      "outputs": [
        {
          "output_type": "execute_result",
          "data": {
            "application/vnd.google.colaboratory.intrinsic+json": {
              "type": "string"
            },
            "text/plain": [
              "'adverbial modifier'"
            ]
          },
          "metadata": {
            "tags": []
          },
          "execution_count": 14
        }
      ]
    },
    {
      "cell_type": "code",
      "metadata": {
        "id": "fyxDoHVFkdV2",
        "outputId": "838c0583-d471-475e-c975-2536b5903e5c",
        "colab": {
          "base_uri": "https://localhost:8080/",
          "height": 357
        }
      },
      "source": [
        "import spacy\n",
        "from spacy import displacy\n",
        "\n",
        "# Show POS and synthatic dependencies\n",
        "displacy.render(doc2, style=\"dep\", jupyter=True, options={'distance': 100})"
      ],
      "execution_count": 15,
      "outputs": [
        {
          "output_type": "display_data",
          "data": {
            "text/html": [
              "<span class=\"tex2jax_ignore\"><svg xmlns=\"http://www.w3.org/2000/svg\" xmlns:xlink=\"http://www.w3.org/1999/xlink\" xml:lang=\"en\" id=\"bca72642baf64299af247ff5705f5dc8-0\" class=\"displacy\" width=\"1250\" height=\"337.0\" direction=\"ltr\" style=\"max-width: none; height: 337.0px; color: #000000; background: #ffffff; font-family: Arial; direction: ltr\">\n",
              "<text class=\"displacy-token\" fill=\"currentColor\" text-anchor=\"middle\" y=\"247.0\">\n",
              "    <tspan class=\"displacy-word\" fill=\"currentColor\" x=\"50\">The</tspan>\n",
              "    <tspan class=\"displacy-tag\" dy=\"2em\" fill=\"currentColor\" x=\"50\">DET</tspan>\n",
              "</text>\n",
              "\n",
              "<text class=\"displacy-token\" fill=\"currentColor\" text-anchor=\"middle\" y=\"247.0\">\n",
              "    <tspan class=\"displacy-word\" fill=\"currentColor\" x=\"150\">coffee</tspan>\n",
              "    <tspan class=\"displacy-tag\" dy=\"2em\" fill=\"currentColor\" x=\"150\">NOUN</tspan>\n",
              "</text>\n",
              "\n",
              "<text class=\"displacy-token\" fill=\"currentColor\" text-anchor=\"middle\" y=\"247.0\">\n",
              "    <tspan class=\"displacy-word\" fill=\"currentColor\" x=\"250\">this</tspan>\n",
              "    <tspan class=\"displacy-tag\" dy=\"2em\" fill=\"currentColor\" x=\"250\">DET</tspan>\n",
              "</text>\n",
              "\n",
              "<text class=\"displacy-token\" fill=\"currentColor\" text-anchor=\"middle\" y=\"247.0\">\n",
              "    <tspan class=\"displacy-word\" fill=\"currentColor\" x=\"350\">morning</tspan>\n",
              "    <tspan class=\"displacy-tag\" dy=\"2em\" fill=\"currentColor\" x=\"350\">NOUN</tspan>\n",
              "</text>\n",
              "\n",
              "<text class=\"displacy-token\" fill=\"currentColor\" text-anchor=\"middle\" y=\"247.0\">\n",
              "    <tspan class=\"displacy-word\" fill=\"currentColor\" x=\"450\">costed</tspan>\n",
              "    <tspan class=\"displacy-tag\" dy=\"2em\" fill=\"currentColor\" x=\"450\">VERB</tspan>\n",
              "</text>\n",
              "\n",
              "<text class=\"displacy-token\" fill=\"currentColor\" text-anchor=\"middle\" y=\"247.0\">\n",
              "    <tspan class=\"displacy-word\" fill=\"currentColor\" x=\"550\">me</tspan>\n",
              "    <tspan class=\"displacy-tag\" dy=\"2em\" fill=\"currentColor\" x=\"550\">PRON</tspan>\n",
              "</text>\n",
              "\n",
              "<text class=\"displacy-token\" fill=\"currentColor\" text-anchor=\"middle\" y=\"247.0\">\n",
              "    <tspan class=\"displacy-word\" fill=\"currentColor\" x=\"650\">$</tspan>\n",
              "    <tspan class=\"displacy-tag\" dy=\"2em\" fill=\"currentColor\" x=\"650\">SYM</tspan>\n",
              "</text>\n",
              "\n",
              "<text class=\"displacy-token\" fill=\"currentColor\" text-anchor=\"middle\" y=\"247.0\">\n",
              "    <tspan class=\"displacy-word\" fill=\"currentColor\" x=\"750\">4,</tspan>\n",
              "    <tspan class=\"displacy-tag\" dy=\"2em\" fill=\"currentColor\" x=\"750\">NUM</tspan>\n",
              "</text>\n",
              "\n",
              "<text class=\"displacy-token\" fill=\"currentColor\" text-anchor=\"middle\" y=\"247.0\">\n",
              "    <tspan class=\"displacy-word\" fill=\"currentColor\" x=\"850\">that</tspan>\n",
              "    <tspan class=\"displacy-tag\" dy=\"2em\" fill=\"currentColor\" x=\"850\">DET</tspan>\n",
              "</text>\n",
              "\n",
              "<text class=\"displacy-token\" fill=\"currentColor\" text-anchor=\"middle\" y=\"247.0\">\n",
              "    <tspan class=\"displacy-word\" fill=\"currentColor\" x=\"950\">is</tspan>\n",
              "    <tspan class=\"displacy-tag\" dy=\"2em\" fill=\"currentColor\" x=\"950\">AUX</tspan>\n",
              "</text>\n",
              "\n",
              "<text class=\"displacy-token\" fill=\"currentColor\" text-anchor=\"middle\" y=\"247.0\">\n",
              "    <tspan class=\"displacy-word\" fill=\"currentColor\" x=\"1050\">extremely</tspan>\n",
              "    <tspan class=\"displacy-tag\" dy=\"2em\" fill=\"currentColor\" x=\"1050\">ADV</tspan>\n",
              "</text>\n",
              "\n",
              "<text class=\"displacy-token\" fill=\"currentColor\" text-anchor=\"middle\" y=\"247.0\">\n",
              "    <tspan class=\"displacy-word\" fill=\"currentColor\" x=\"1150\">expensive!</tspan>\n",
              "    <tspan class=\"displacy-tag\" dy=\"2em\" fill=\"currentColor\" x=\"1150\">ADJ</tspan>\n",
              "</text>\n",
              "\n",
              "<g class=\"displacy-arrow\">\n",
              "    <path class=\"displacy-arc\" id=\"arrow-bca72642baf64299af247ff5705f5dc8-0-0\" stroke-width=\"2px\" d=\"M70,202.0 C70,152.0 135.0,152.0 135.0,202.0\" fill=\"none\" stroke=\"currentColor\"/>\n",
              "    <text dy=\"1.25em\" style=\"font-size: 0.8em; letter-spacing: 1px\">\n",
              "        <textPath xlink:href=\"#arrow-bca72642baf64299af247ff5705f5dc8-0-0\" class=\"displacy-label\" startOffset=\"50%\" side=\"left\" fill=\"currentColor\" text-anchor=\"middle\">det</textPath>\n",
              "    </text>\n",
              "    <path class=\"displacy-arrowhead\" d=\"M70,204.0 L62,192.0 78,192.0\" fill=\"currentColor\"/>\n",
              "</g>\n",
              "\n",
              "<g class=\"displacy-arrow\">\n",
              "    <path class=\"displacy-arc\" id=\"arrow-bca72642baf64299af247ff5705f5dc8-0-1\" stroke-width=\"2px\" d=\"M170,202.0 C170,52.0 445.0,52.0 445.0,202.0\" fill=\"none\" stroke=\"currentColor\"/>\n",
              "    <text dy=\"1.25em\" style=\"font-size: 0.8em; letter-spacing: 1px\">\n",
              "        <textPath xlink:href=\"#arrow-bca72642baf64299af247ff5705f5dc8-0-1\" class=\"displacy-label\" startOffset=\"50%\" side=\"left\" fill=\"currentColor\" text-anchor=\"middle\">nsubj</textPath>\n",
              "    </text>\n",
              "    <path class=\"displacy-arrowhead\" d=\"M170,204.0 L162,192.0 178,192.0\" fill=\"currentColor\"/>\n",
              "</g>\n",
              "\n",
              "<g class=\"displacy-arrow\">\n",
              "    <path class=\"displacy-arc\" id=\"arrow-bca72642baf64299af247ff5705f5dc8-0-2\" stroke-width=\"2px\" d=\"M270,202.0 C270,152.0 335.0,152.0 335.0,202.0\" fill=\"none\" stroke=\"currentColor\"/>\n",
              "    <text dy=\"1.25em\" style=\"font-size: 0.8em; letter-spacing: 1px\">\n",
              "        <textPath xlink:href=\"#arrow-bca72642baf64299af247ff5705f5dc8-0-2\" class=\"displacy-label\" startOffset=\"50%\" side=\"left\" fill=\"currentColor\" text-anchor=\"middle\">det</textPath>\n",
              "    </text>\n",
              "    <path class=\"displacy-arrowhead\" d=\"M270,204.0 L262,192.0 278,192.0\" fill=\"currentColor\"/>\n",
              "</g>\n",
              "\n",
              "<g class=\"displacy-arrow\">\n",
              "    <path class=\"displacy-arc\" id=\"arrow-bca72642baf64299af247ff5705f5dc8-0-3\" stroke-width=\"2px\" d=\"M370,202.0 C370,152.0 435.0,152.0 435.0,202.0\" fill=\"none\" stroke=\"currentColor\"/>\n",
              "    <text dy=\"1.25em\" style=\"font-size: 0.8em; letter-spacing: 1px\">\n",
              "        <textPath xlink:href=\"#arrow-bca72642baf64299af247ff5705f5dc8-0-3\" class=\"displacy-label\" startOffset=\"50%\" side=\"left\" fill=\"currentColor\" text-anchor=\"middle\">npadvmod</textPath>\n",
              "    </text>\n",
              "    <path class=\"displacy-arrowhead\" d=\"M370,204.0 L362,192.0 378,192.0\" fill=\"currentColor\"/>\n",
              "</g>\n",
              "\n",
              "<g class=\"displacy-arrow\">\n",
              "    <path class=\"displacy-arc\" id=\"arrow-bca72642baf64299af247ff5705f5dc8-0-4\" stroke-width=\"2px\" d=\"M470,202.0 C470,152.0 535.0,152.0 535.0,202.0\" fill=\"none\" stroke=\"currentColor\"/>\n",
              "    <text dy=\"1.25em\" style=\"font-size: 0.8em; letter-spacing: 1px\">\n",
              "        <textPath xlink:href=\"#arrow-bca72642baf64299af247ff5705f5dc8-0-4\" class=\"displacy-label\" startOffset=\"50%\" side=\"left\" fill=\"currentColor\" text-anchor=\"middle\">dative</textPath>\n",
              "    </text>\n",
              "    <path class=\"displacy-arrowhead\" d=\"M535.0,204.0 L543.0,192.0 527.0,192.0\" fill=\"currentColor\"/>\n",
              "</g>\n",
              "\n",
              "<g class=\"displacy-arrow\">\n",
              "    <path class=\"displacy-arc\" id=\"arrow-bca72642baf64299af247ff5705f5dc8-0-5\" stroke-width=\"2px\" d=\"M670,202.0 C670,152.0 735.0,152.0 735.0,202.0\" fill=\"none\" stroke=\"currentColor\"/>\n",
              "    <text dy=\"1.25em\" style=\"font-size: 0.8em; letter-spacing: 1px\">\n",
              "        <textPath xlink:href=\"#arrow-bca72642baf64299af247ff5705f5dc8-0-5\" class=\"displacy-label\" startOffset=\"50%\" side=\"left\" fill=\"currentColor\" text-anchor=\"middle\">nmod</textPath>\n",
              "    </text>\n",
              "    <path class=\"displacy-arrowhead\" d=\"M670,204.0 L662,192.0 678,192.0\" fill=\"currentColor\"/>\n",
              "</g>\n",
              "\n",
              "<g class=\"displacy-arrow\">\n",
              "    <path class=\"displacy-arc\" id=\"arrow-bca72642baf64299af247ff5705f5dc8-0-6\" stroke-width=\"2px\" d=\"M470,202.0 C470,52.0 745.0,52.0 745.0,202.0\" fill=\"none\" stroke=\"currentColor\"/>\n",
              "    <text dy=\"1.25em\" style=\"font-size: 0.8em; letter-spacing: 1px\">\n",
              "        <textPath xlink:href=\"#arrow-bca72642baf64299af247ff5705f5dc8-0-6\" class=\"displacy-label\" startOffset=\"50%\" side=\"left\" fill=\"currentColor\" text-anchor=\"middle\">dobj</textPath>\n",
              "    </text>\n",
              "    <path class=\"displacy-arrowhead\" d=\"M745.0,204.0 L753.0,192.0 737.0,192.0\" fill=\"currentColor\"/>\n",
              "</g>\n",
              "\n",
              "<g class=\"displacy-arrow\">\n",
              "    <path class=\"displacy-arc\" id=\"arrow-bca72642baf64299af247ff5705f5dc8-0-7\" stroke-width=\"2px\" d=\"M870,202.0 C870,152.0 935.0,152.0 935.0,202.0\" fill=\"none\" stroke=\"currentColor\"/>\n",
              "    <text dy=\"1.25em\" style=\"font-size: 0.8em; letter-spacing: 1px\">\n",
              "        <textPath xlink:href=\"#arrow-bca72642baf64299af247ff5705f5dc8-0-7\" class=\"displacy-label\" startOffset=\"50%\" side=\"left\" fill=\"currentColor\" text-anchor=\"middle\">nsubj</textPath>\n",
              "    </text>\n",
              "    <path class=\"displacy-arrowhead\" d=\"M870,204.0 L862,192.0 878,192.0\" fill=\"currentColor\"/>\n",
              "</g>\n",
              "\n",
              "<g class=\"displacy-arrow\">\n",
              "    <path class=\"displacy-arc\" id=\"arrow-bca72642baf64299af247ff5705f5dc8-0-8\" stroke-width=\"2px\" d=\"M470,202.0 C470,2.0 950.0,2.0 950.0,202.0\" fill=\"none\" stroke=\"currentColor\"/>\n",
              "    <text dy=\"1.25em\" style=\"font-size: 0.8em; letter-spacing: 1px\">\n",
              "        <textPath xlink:href=\"#arrow-bca72642baf64299af247ff5705f5dc8-0-8\" class=\"displacy-label\" startOffset=\"50%\" side=\"left\" fill=\"currentColor\" text-anchor=\"middle\">ccomp</textPath>\n",
              "    </text>\n",
              "    <path class=\"displacy-arrowhead\" d=\"M950.0,204.0 L958.0,192.0 942.0,192.0\" fill=\"currentColor\"/>\n",
              "</g>\n",
              "\n",
              "<g class=\"displacy-arrow\">\n",
              "    <path class=\"displacy-arc\" id=\"arrow-bca72642baf64299af247ff5705f5dc8-0-9\" stroke-width=\"2px\" d=\"M1070,202.0 C1070,152.0 1135.0,152.0 1135.0,202.0\" fill=\"none\" stroke=\"currentColor\"/>\n",
              "    <text dy=\"1.25em\" style=\"font-size: 0.8em; letter-spacing: 1px\">\n",
              "        <textPath xlink:href=\"#arrow-bca72642baf64299af247ff5705f5dc8-0-9\" class=\"displacy-label\" startOffset=\"50%\" side=\"left\" fill=\"currentColor\" text-anchor=\"middle\">advmod</textPath>\n",
              "    </text>\n",
              "    <path class=\"displacy-arrowhead\" d=\"M1070,204.0 L1062,192.0 1078,192.0\" fill=\"currentColor\"/>\n",
              "</g>\n",
              "\n",
              "<g class=\"displacy-arrow\">\n",
              "    <path class=\"displacy-arc\" id=\"arrow-bca72642baf64299af247ff5705f5dc8-0-10\" stroke-width=\"2px\" d=\"M970,202.0 C970,102.0 1140.0,102.0 1140.0,202.0\" fill=\"none\" stroke=\"currentColor\"/>\n",
              "    <text dy=\"1.25em\" style=\"font-size: 0.8em; letter-spacing: 1px\">\n",
              "        <textPath xlink:href=\"#arrow-bca72642baf64299af247ff5705f5dc8-0-10\" class=\"displacy-label\" startOffset=\"50%\" side=\"left\" fill=\"currentColor\" text-anchor=\"middle\">acomp</textPath>\n",
              "    </text>\n",
              "    <path class=\"displacy-arrowhead\" d=\"M1140.0,204.0 L1148.0,192.0 1132.0,192.0\" fill=\"currentColor\"/>\n",
              "</g>\n",
              "</svg></span>"
            ],
            "text/plain": [
              "<IPython.core.display.HTML object>"
            ]
          },
          "metadata": {
            "tags": []
          }
        }
      ]
    },
    {
      "cell_type": "markdown",
      "metadata": {
        "id": "bigTnVjNhjT_"
      },
      "source": [
        "#### Naming entities\n",
        "\n",
        "\n",
        "\n",
        "> spaCy features an extremely fast statistical entity recognition system, that assigns labels to contiguous spans of tokens. The default model identifies a variety of named and numeric entities, including companies, locations, organizations and products. You can add arbitrary classes to the entity recognition system, and update the model with new examples.\n",
        "\n"
      ]
    },
    {
      "cell_type": "code",
      "metadata": {
        "id": "Nun7w-ErksfY",
        "outputId": "0c1e9f21-eeb3-4ae6-aff0-6a0acab74892",
        "colab": {
          "base_uri": "https://localhost:8080/",
          "height": 52
        }
      },
      "source": [
        "# The entity visualizer highlights named entities and their labels in the text\n",
        "displacy.render(doc2, style=\"ent\", jupyter=True, options={'distance': 100})"
      ],
      "execution_count": 16,
      "outputs": [
        {
          "output_type": "display_data",
          "data": {
            "text/html": [
              "<span class=\"tex2jax_ignore\"><div class=\"entities\" style=\"line-height: 2.5; direction: ltr\">The coffee \n",
              "<mark class=\"entity\" style=\"background: #bfe1d9; padding: 0.45em 0.6em; margin: 0 0.25em; line-height: 1; border-radius: 0.35em;\">\n",
              "    this morning\n",
              "    <span style=\"font-size: 0.8em; font-weight: bold; line-height: 1; border-radius: 0.35em; text-transform: uppercase; vertical-align: middle; margin-left: 0.5rem\">TIME</span>\n",
              "</mark>\n",
              " costed me $\n",
              "<mark class=\"entity\" style=\"background: #e4e7d2; padding: 0.45em 0.6em; margin: 0 0.25em; line-height: 1; border-radius: 0.35em;\">\n",
              "    4\n",
              "    <span style=\"font-size: 0.8em; font-weight: bold; line-height: 1; border-radius: 0.35em; text-transform: uppercase; vertical-align: middle; margin-left: 0.5rem\">MONEY</span>\n",
              "</mark>\n",
              ", that is extremely expensive!</div></span>"
            ],
            "text/plain": [
              "<IPython.core.display.HTML object>"
            ]
          },
          "metadata": {
            "tags": []
          }
        }
      ]
    },
    {
      "cell_type": "markdown",
      "metadata": {
        "id": "9k07OV_0hNct"
      },
      "source": [
        "#### In class exercise:\n",
        "\n",
        "Try it yourself. Write a sentence, visualize the synthatic dependencies and the entities within the sentence:"
      ]
    },
    {
      "cell_type": "code",
      "metadata": {
        "id": "j99jqjl7hh9D"
      },
      "source": [
        ""
      ],
      "execution_count": null,
      "outputs": []
    },
    {
      "cell_type": "markdown",
      "metadata": {
        "id": "1zXsGHrIqadY"
      },
      "source": [
        "#### Tokenization rules\n",
        "\n",
        "The tokenization applies rules specific to each language. For instance, punctuation at the end of a sentence should be split off – whereas “U.K.” should remain one token. Also don't should be split as **do** and **not** and such.\n",
        "\n",
        "Those form part of the tokenizer exceptions, that make all that decisions for each language model on whether to split a word or not.\n",
        "\n",
        "* **Tokenizer exception**: Special-case rule to split a string into several tokens or prevent a token from being split when punctuation rules are applied.\n",
        "* **Prefix**: Character(s) at the beginning, e.g. $, (, “, ¿.\n",
        "* **Suffix**: Character(s) at the end, e.g. km, ), ”, !.\n",
        "* **Infix**: Character(s) in between, e.g. -, --, /, ….\n",
        "\n",
        "If we want to change the tokenization or add some, we will need to create our own rules (rarely used unless you are dealing with scientific/slang languages)."
      ]
    },
    {
      "cell_type": "code",
      "metadata": {
        "id": "DS48FrWKskO3"
      },
      "source": [
        "text_sentence_3 = \"I was accepted at UCL-CV Master in U.K., but I didn't have enough money for it!\""
      ],
      "execution_count": 17,
      "outputs": []
    },
    {
      "cell_type": "code",
      "metadata": {
        "id": "BLSJVLMerHhf",
        "outputId": "2716a32b-ee33-431b-cf7f-a48cecdcef5f",
        "colab": {
          "base_uri": "https://localhost:8080/"
        }
      },
      "source": [
        "\"\"\"\n",
        "With Python we can also split the text using .split().\n",
        "\n",
        "The problem is that we do not retain contextual token information.\n",
        "Such as do/not or punctuations such as commas or exclamations.\n",
        "\"\"\"\n",
        "\n",
        "text_sentence_3.split(' ')"
      ],
      "execution_count": 18,
      "outputs": [
        {
          "output_type": "execute_result",
          "data": {
            "text/plain": [
              "['I',\n",
              " 'was',\n",
              " 'accepted',\n",
              " 'at',\n",
              " 'UCL-CV',\n",
              " 'Master',\n",
              " 'in',\n",
              " 'U.K.,',\n",
              " 'but',\n",
              " 'I',\n",
              " \"didn't\",\n",
              " 'have',\n",
              " 'enough',\n",
              " 'money',\n",
              " 'for',\n",
              " 'it!']"
            ]
          },
          "metadata": {
            "tags": []
          },
          "execution_count": 18
        }
      ]
    },
    {
      "cell_type": "code",
      "metadata": {
        "id": "er1OCTJSlz4u",
        "outputId": "43540239-90f7-468d-b15d-265d91fa82fb",
        "colab": {
          "base_uri": "https://localhost:8080/"
        }
      },
      "source": [
        "doc3 = nlp(text_sentence_3)\n",
        "\n",
        "for token in doc3:\n",
        "    print(token.text)"
      ],
      "execution_count": 19,
      "outputs": [
        {
          "output_type": "stream",
          "text": [
            "I\n",
            "was\n",
            "accepted\n",
            "at\n",
            "UCL\n",
            "-\n",
            "CV\n",
            "Master\n",
            "in\n",
            "U.K.\n",
            ",\n",
            "but\n",
            "I\n",
            "did\n",
            "n't\n",
            "have\n",
            "enough\n",
            "money\n",
            "for\n",
            "it\n",
            "!\n"
          ],
          "name": "stdout"
        }
      ]
    },
    {
      "cell_type": "markdown",
      "metadata": {
        "id": "RsidWPPVvgvu"
      },
      "source": [
        "##### Creating our own rule\n",
        "\n",
        "Global and language-specific tokenizer data is supplied via the language data in spacy/lang. The tokenizer exceptions define special cases like “don’t” in English, which needs to be split into two tokens: {ORTH: \"do\"} and {ORTH: \"n't\", NORM: \"not\"}. The prefixes, suffixes and infixes mostly define punctuation rules – for example, when to split off periods (at the end of a sentence), and when to leave tokens containing periods intact (abbreviations like “U.S.”).\n",
        "\n",
        "![alt text](https://spacy.io/language_data-ef63e6a58b7ec47c073fb59857a76e5f.svg)\n",
        "\n",
        "Anything that’s specific to a domain or text type – like financial trading abbreviations, or Bavarian youth slang – should be added as a special case rule to your tokenizer instance. If you’re dealing with a lot of customizations, it might make sense to create an entirely custom subclass."
      ]
    },
    {
      "cell_type": "code",
      "metadata": {
        "id": "XspIC2OirfGu",
        "outputId": "89d3c556-203e-4963-ce58-15ccc29813ae",
        "colab": {
          "base_uri": "https://localhost:8080/"
        }
      },
      "source": [
        "import spacy\n",
        "\n",
        "nlp = spacy.load(\"en_core_web_sm\")\n",
        "\n",
        "text_sentence_4 = \"Hey, gimme your money\" \n",
        "\n",
        "doc4 = nlp(text_sentence_4)\n",
        "\n",
        "for token in doc4:\n",
        "    print(token.text)"
      ],
      "execution_count": 20,
      "outputs": [
        {
          "output_type": "stream",
          "text": [
            "Hey\n",
            ",\n",
            "gimme\n",
            "your\n",
            "money\n"
          ],
          "name": "stdout"
        }
      ]
    },
    {
      "cell_type": "code",
      "metadata": {
        "id": "ttqRCuuQw6On"
      },
      "source": [
        "import spacy\n",
        "from spacy.symbols import ORTH\n",
        "\n",
        "nlp = spacy.load(\"en_core_web_sm\") \n",
        "\n",
        "text_sentence_4 = \"Hey, gimme your money\" \n",
        "doc4 = nlp(text_sentence_4)\n",
        "\n",
        "# Add special case rule\n",
        "special_case = [{ORTH: \"gim\"}, {ORTH: \"me\"}]\n",
        "nlp.tokenizer.add_special_case(\"gimme\", special_case)"
      ],
      "execution_count": 21,
      "outputs": []
    },
    {
      "cell_type": "code",
      "metadata": {
        "id": "NspnM88txUDc",
        "outputId": "66844448-5f18-42cc-8b9b-6f688dec996d",
        "colab": {
          "base_uri": "https://localhost:8080/"
        }
      },
      "source": [
        "text_sentence_4 = \"Hey, gimme your money\" \n",
        "\n",
        "doc4 = nlp(text_sentence_4)\n",
        "\n",
        "for token in doc4:\n",
        "    print(token.text)"
      ],
      "execution_count": 22,
      "outputs": [
        {
          "output_type": "stream",
          "text": [
            "Hey\n",
            ",\n",
            "gim\n",
            "me\n",
            "your\n",
            "money\n"
          ],
          "name": "stdout"
        }
      ]
    },
    {
      "cell_type": "markdown",
      "metadata": {
        "id": "rQwVTWHQztz8"
      },
      "source": [
        "##### Long sentences and weird spaces"
      ]
    },
    {
      "cell_type": "code",
      "metadata": {
        "id": "mYIaQp2k45gd",
        "outputId": "c2a3e55f-d46c-4318-889b-5005a086734b",
        "colab": {
          "base_uri": "https://localhost:8080/"
        }
      },
      "source": [
        "text_sentence_5 = 'Some\\nspaces  and\\ttab characters'\n",
        "\n",
        "doc5 = nlp(text_sentence_5)\n",
        "\n",
        "for token in doc5:\n",
        "    print(token.text)"
      ],
      "execution_count": 23,
      "outputs": [
        {
          "output_type": "stream",
          "text": [
            "Some\n",
            "\n",
            "\n",
            "spaces\n",
            " \n",
            "and\n",
            "\t\n",
            "tab\n",
            "characters\n"
          ],
          "name": "stdout"
        }
      ]
    },
    {
      "cell_type": "code",
      "metadata": {
        "id": "NVkzoQAw5FsY",
        "outputId": "bfe7684c-d3d5-4f0c-a9ec-eca11f791b78",
        "colab": {
          "base_uri": "https://localhost:8080/"
        }
      },
      "source": [
        "doc5[1].is_space"
      ],
      "execution_count": 24,
      "outputs": [
        {
          "output_type": "execute_result",
          "data": {
            "text/plain": [
              "True"
            ]
          },
          "metadata": {
            "tags": []
          },
          "execution_count": 24
        }
      ]
    },
    {
      "cell_type": "code",
      "metadata": {
        "id": "UEvV03B05KdP",
        "outputId": "5715cf97-5976-4250-848f-a7db290c3e2a",
        "colab": {
          "base_uri": "https://localhost:8080/"
        }
      },
      "source": [
        "# Spacy can also recognize sentences without weird splits\n",
        "text_sentence_6 = \"In ancient Rome, some neighbors live in three adjacent houses. In the center is the house of Senex, who lives there with wife Domina, son Hero, and several slaves, including head slave Hysterium and the musical's main character Pseudolus. A slave belonging to Hero, Pseudolus wishes to buy, win, or steal his freedom. One of the neighboring houses is owned by Marcus Lycus, who is a buyer and seller of beautiful women; the other belongs to the ancient Erronius, who is abroad searching for his long-lost children (stolen in infancy by pirates). One day, Senex and Domina go on a trip and leave Pseudolus in charge of Hero. Hero confides in Pseudolus that he is in love with the lovely Philia, one of the courtesans in the House of Lycus (albeit still a virgin).\"\n",
        "\n",
        "doc6 = nlp(text_sentence_6)\n",
        "\n",
        "for sent in doc6.sents:\n",
        "    print(sent)"
      ],
      "execution_count": 26,
      "outputs": [
        {
          "output_type": "stream",
          "text": [
            "In ancient Rome, some neighbors live in three adjacent houses.\n",
            "In the center is the house of Senex, who lives there with wife Domina, son Hero, and several slaves, including head slave Hysterium and the musical's main character Pseudolus.\n",
            "A slave belonging to Hero, Pseudolus wishes to buy, win, or steal his freedom.\n",
            "One of the neighboring houses is owned by Marcus Lycus, who is a buyer and seller of beautiful women; the other belongs to the ancient Erronius, who is abroad searching for his long-lost children (stolen in infancy by pirates).\n",
            "One day, Senex and Domina go on a trip and leave Pseudolus in charge of Hero.\n",
            "Hero confides in Pseudolus that he is in love with the lovely Philia, one of the courtesans in the House of Lycus (\n",
            "albeit still a virgin).\n"
          ],
          "name": "stdout"
        }
      ]
    },
    {
      "cell_type": "markdown",
      "metadata": {
        "id": "O1H-VPRB6W7l"
      },
      "source": [
        "### Lemmatization\n",
        "\n",
        "Lemmatization is the assignation of the base forms of words. For example, the lemma of “was” is “be”, and the lemma of “rats” is “rat”."
      ]
    },
    {
      "cell_type": "code",
      "metadata": {
        "id": "E19GCEnZ6P9v",
        "outputId": "8ffd26ef-2fea-48ba-f491-9ac25e3a7e6a",
        "colab": {
          "base_uri": "https://localhost:8080/",
          "height": 35
        }
      },
      "source": [
        "nlp(\"they are neighbours\")[-1].lemma_"
      ],
      "execution_count": 27,
      "outputs": [
        {
          "output_type": "execute_result",
          "data": {
            "application/vnd.google.colaboratory.intrinsic+json": {
              "type": "string"
            },
            "text/plain": [
              "'neighbour'"
            ]
          },
          "metadata": {
            "tags": []
          },
          "execution_count": 27
        }
      ]
    },
    {
      "cell_type": "code",
      "metadata": {
        "id": "2RXDuPHy-eTs",
        "outputId": "428c8aad-4739-46c5-fccf-ecb2f182cd21",
        "colab": {
          "base_uri": "https://localhost:8080/",
          "height": 35
        }
      },
      "source": [
        "nlp(\"is\")[0].lemma_"
      ],
      "execution_count": 28,
      "outputs": [
        {
          "output_type": "execute_result",
          "data": {
            "application/vnd.google.colaboratory.intrinsic+json": {
              "type": "string"
            },
            "text/plain": [
              "'be'"
            ]
          },
          "metadata": {
            "tags": []
          },
          "execution_count": 28
        }
      ]
    },
    {
      "cell_type": "code",
      "metadata": {
        "id": "BVD7TNvv639P",
        "outputId": "9e7ab997-7203-48e8-9cf7-d519c63491b8",
        "colab": {
          "base_uri": "https://localhost:8080/"
        }
      },
      "source": [
        "doc6[0]"
      ],
      "execution_count": 29,
      "outputs": [
        {
          "output_type": "execute_result",
          "data": {
            "text/plain": [
              "In"
            ]
          },
          "metadata": {
            "tags": []
          },
          "execution_count": 29
        }
      ]
    },
    {
      "cell_type": "code",
      "metadata": {
        "id": "ZIHap1F26_bH",
        "outputId": "59bc3ae5-b851-42b3-c53e-2c0d83250358",
        "colab": {
          "base_uri": "https://localhost:8080/",
          "height": 35
        }
      },
      "source": [
        "doc6[0].lemma_"
      ],
      "execution_count": 30,
      "outputs": [
        {
          "output_type": "execute_result",
          "data": {
            "application/vnd.google.colaboratory.intrinsic+json": {
              "type": "string"
            },
            "text/plain": [
              "'in'"
            ]
          },
          "metadata": {
            "tags": []
          },
          "execution_count": 30
        }
      ]
    },
    {
      "cell_type": "code",
      "metadata": {
        "id": "orAIfks77Hk_",
        "outputId": "ed41fd3d-3b44-4a26-b4b8-d52e8d4f56b9",
        "colab": {
          "base_uri": "https://localhost:8080/"
        }
      },
      "source": [
        "# Getting information about a token\n",
        "doc6.vocab['be']"
      ],
      "execution_count": 31,
      "outputs": [
        {
          "output_type": "execute_result",
          "data": {
            "text/plain": [
              "<spacy.lexeme.Lexeme at 0x7f4e6d2a25a0>"
            ]
          },
          "metadata": {
            "tags": []
          },
          "execution_count": 31
        }
      ]
    },
    {
      "cell_type": "markdown",
      "metadata": {
        "id": "KdjoTxuG7s_V"
      },
      "source": [
        "#### Dealing with STOP words\n",
        "In computing, stop words are words which are filtered out before processing of natural language data (text). Stop words are generally the most common words in a language; there is no single universal list of stop words used by all natural language processing tools, and indeed not all tools even use such a list. Some tools avoid removing stop words to support phrase search."
      ]
    },
    {
      "cell_type": "code",
      "metadata": {
        "id": "KJjuIZla7Lqf",
        "outputId": "35d0b68f-f3c1-4a39-9acb-da1a15464776",
        "colab": {
          "base_uri": "https://localhost:8080/"
        }
      },
      "source": [
        "# Getting STOP words\n",
        "from spacy.lang.en.stop_words import STOP_WORDS\n",
        "\n",
        "print(STOP_WORDS)"
      ],
      "execution_count": 32,
      "outputs": [
        {
          "output_type": "stream",
          "text": [
            "{'n’t', 'except', 'less', 'indeed', 'empty', 'whereas', 'five', 'make', 'had', 'whatever', 'hers', \"'ll\", 'seem', '‘s', 'further', 'his', '’d', 'regarding', 'at', 'first', 'third', 'somehow', 'down', 'these', 'whether', 'becomes', 'everything', 'during', 're', 'all', 'them', 'often', '‘re', 'should', 'namely', 'say', 'whenever', '‘d', 'as', 'me', 'thru', 'even', 'call', 'two', 'out', \"'m\", 'and', 'may', 'please', 'perhaps', 'that', 'behind', 'to', 'last', 'via', 'whoever', 'ourselves', 'yet', 'also', 'hereupon', 'ten', 'after', 'already', 'about', \"'ve\", 'might', 'every', 'twelve', 'it', 'your', 'something', 'amongst', 'be', 'whose', 'per', 'now', 'her', 'some', 'yourselves', 'or', 'same', 'though', 'how', 'wherein', 'get', 'throughout', 'any', 'nor', 'unless', 'whom', 'were', 'moreover', 'my', 'put', 'than', '‘m', 'due', 'a', 'was', 'do', 'fifty', 'done', 'he', 'those', 'across', 'take', 'n‘t', 'above', 'for', 'here', 'the', 'thereby', 'would', 'just', \"'s\", 'formerly', 'bottom', 'which', '’ve', 'only', 'herself', 'see', 'what', 'without', 'else', 'when', 'sometime', 'move', '’m', 'becoming', 'nine', 'against', 'latter', 'off', 'serious', 'there', '‘ll', 'myself', 'nowhere', 'seemed', 'sixty', 'used', 'nobody', 'very', 'not', 'well', 'ours', 'along', 'almost', 'him', 'hundred', 'whereupon', 'former', 'besides', 'himself', 'however', 'of', 'anyhow', 'everywhere', 'least', 'ca', 'one', 'really', 'full', 'others', 'whence', 'forty', 'by', 'could', 'part', 'together', 'our', 'upon', 'most', '’re', 'neither', 'been', 'whereby', 'this', 'toward', 'but', 'doing', 'enough', 'none', 'six', 'never', 'keep', 'next', 'anywhere', 'own', 'into', 'am', 'rather', 'show', 'so', 'another', 'someone', 'from', 'hence', 'up', 'because', 'once', 'top', 'while', 'will', 'afterwards', 'among', 'quite', 'whither', 'using', 'towards', 'can', 'does', 'somewhere', 'seems', 'mostly', 'being', 'its', 'then', 'wherever', 'if', 'have', 'themselves', 'i', 'under', '‘ve', 'always', 'has', 'eleven', 'other', 'therefore', 'go', '’s', 'few', 'both', 'cannot', 'us', 'mine', 'twenty', 'on', 'beside', 'she', 'everyone', 'eight', '’ll', 'through', 'are', \"'re\", 'three', 'since', 'is', 'each', 'whereafter', 'around', 'otherwise', 'below', 'they', 'still', 'anyone', 'four', 'within', 'you', 'with', 'therein', 'yours', \"n't\", 'we', \"'d\", 'such', 'although', 'amount', 'nothing', 'thereupon', 'noone', 'made', 'until', 'nevertheless', 'side', 'an', 'back', 'fifteen', 'why', 'between', 'where', 'latterly', 'thus', 'itself', 'various', 'many', 'onto', 'herein', 'either', 'front', 'ever', 'sometimes', 'name', 'did', 'hereafter', 'anyway', 'yourself', 'much', 'elsewhere', 'their', 'thence', 'several', 'no', 'beyond', 'became', 'again', 'meanwhile', 'alone', 'more', 'must', 'too', 'become', 'beforehand', 'anything', 'before', 'over', 'who', 'whole', 'hereby', 'in', 'thereafter', 'give', 'seeming'}\n"
          ],
          "name": "stdout"
        }
      ]
    },
    {
      "cell_type": "code",
      "metadata": {
        "id": "h6KuLWRV72_X",
        "outputId": "796d0f3c-43f1-47b5-b5cb-56093572df15",
        "colab": {
          "base_uri": "https://localhost:8080/"
        }
      },
      "source": [
        "print(doc6[0], \"--> is stopword in list above? -->\", doc6[0] in STOP_WORDS)"
      ],
      "execution_count": 35,
      "outputs": [
        {
          "output_type": "stream",
          "text": [
            "In --> is stopword in list above? --> False\n"
          ],
          "name": "stdout"
        }
      ]
    },
    {
      "cell_type": "markdown",
      "metadata": {
        "id": "Ze9L3mcL97nm"
      },
      "source": [
        "\"In\" is not found in the list of common words, however spaCy changes automatically to lower case to find that actually \"In\" is \"in\" and therefore is a stopword."
      ]
    },
    {
      "cell_type": "code",
      "metadata": {
        "id": "XiSaZtvq8Dun",
        "outputId": "e8c3bed3-2577-4a17-cd03-fc95e79b7ecc",
        "colab": {
          "base_uri": "https://localhost:8080/"
        }
      },
      "source": [
        "doc6[0].is_stop"
      ],
      "execution_count": 34,
      "outputs": [
        {
          "output_type": "execute_result",
          "data": {
            "text/plain": [
              "True"
            ]
          },
          "metadata": {
            "tags": []
          },
          "execution_count": 34
        }
      ]
    },
    {
      "cell_type": "markdown",
      "metadata": {
        "id": "ZjJ5na1b-O92"
      },
      "source": [
        "### In class exercise:\n",
        "\n",
        "Display a table with all the tokens of `text1` and the columns `[\"Text\", \"Lemma\", \"Coarse POS (pos)\", \"Fine POS (tag)\", \"Syntactic dependency\", \"Shape\", \"Alphanumeric\", \"Stop\"]`. Look in https://spacy.io/api/token#attributes for hints. Something like:\n",
        "\n",
        "<table border=\"1\" class=\"dataframe\">\n",
        "  <thead>\n",
        "    <tr style=\"text-align: right;\">\n",
        "      <th></th>\n",
        "      <th>Text</th>\n",
        "      <th>Lemma</th>\n",
        "      <th>Coarse POS (pos)</th>\n",
        "      <th>Fine POS (tag)</th>\n",
        "      <th>Syntactic dependency</th>\n",
        "      <th>Shape</th>\n",
        "      <th>Alphanumeric</th>\n",
        "      <th>Stop</th>\n",
        "    </tr>\n",
        "  </thead>\n",
        "  <tbody>\n",
        "    <tr>\n",
        "      <th>0</th>\n",
        "      <td>This</td>\n",
        "      <td>this</td>\n",
        "      <td>DET</td>\n",
        "      <td>DT</td>\n",
        "      <td>nsubj</td>\n",
        "      <td>Xxxx</td>\n",
        "      <td>True</td>\n",
        "      <td>False</td>\n",
        "    </tr>\n",
        "    <tr>\n",
        "      <th>1</th>\n",
        "      <td>is</td>\n",
        "      <td>be</td>\n",
        "      <td>VERB</td>\n",
        "      <td>VBZ</td>\n",
        "      <td>ROOT</td>\n",
        "      <td>xx</td>\n",
        "      <td>True</td>\n",
        "      <td>True</td>\n",
        "    </tr>\n",
        "    <tr>\n",
        "      <th>...</th>\n",
        "      <td>...</td>\n",
        "      <td>...</td>\n",
        "      <td>...</td>\n",
        "      <td>...</td>\n",
        "      <td>...</td>\n",
        "      <td>...</td>\n",
        "      <td>...</td>\n",
        "      <td>...</td>\n",
        "    </tr>\n",
        "  </tbody>\n",
        "</table>\n",
        "\n",
        "Also, create a dependency and entity graph of the sentence.\n",
        "\n",
        "Use the following sentence:"
      ]
    },
    {
      "cell_type": "code",
      "metadata": {
        "id": "S-AIgn__-leF"
      },
      "source": [
        "exercise_sentece = \"This is great! We are learning text processing with spaCy\""
      ],
      "execution_count": null,
      "outputs": []
    },
    {
      "cell_type": "markdown",
      "metadata": {
        "id": "pkru_Zpi5yhO"
      },
      "source": [
        "## spaCy pipelines\n",
        "\n",
        "When we call `nlp` on a text, spaCy tokenizes the text to produce a `Doc`. The processing pipeline has different steps that are removed from the complexity of the user but that [can be tweaked if needed](https://spacy.io/usage/processing-pipelines).\n",
        "\n",
        "![alt text](https://spacy.io/pipeline-7a14d4edd18f3edfee8f34393bff2992.svg)"
      ]
    },
    {
      "cell_type": "markdown",
      "metadata": {
        "id": "X3WXfgOF-wYg"
      },
      "source": [
        "## Entity recognition\n",
        "\n",
        "A **named entity** is a *real-world object* that’s assigned a name – for example, a person, a country, a product or a book title.\n",
        "\n",
        "\n",
        "> spaCy can recognize [many types of named entities](https://spacy.io/api/annotation#named-entities), by predicting over a language model. Results are not 100% accurate as models are statistical and depends on the examples they are trained on, but this can be fine tuned for you later on.\n",
        "\n",
        "\n",
        "\n",
        "Named entities can be accessed from the *ents* properties of a spaCy *Doc*:"
      ]
    },
    {
      "cell_type": "code",
      "metadata": {
        "id": "9bwX_KZWP29D"
      },
      "source": [
        "text_sentence_7 = u'Apple is looking at buying U.K. startup for 1 billion USD'\n",
        "doc7 = nlp(text_sentence_7)"
      ],
      "execution_count": 36,
      "outputs": []
    },
    {
      "cell_type": "markdown",
      "metadata": {
        "id": "TqzU-QnArT9E"
      },
      "source": [
        "There are certain entity properties that can be accessed:\n",
        "\n",
        "* **Text**: The original entity text.\n",
        "* **Start**: Index of start of entity in the Doc.\n",
        "* **End**: Index of end of entity in the Doc.\n",
        "* **Label**: Entity label, i.e. type."
      ]
    },
    {
      "cell_type": "code",
      "metadata": {
        "id": "jpeSXMhhP29H",
        "outputId": "159fd684-fe71-4f1e-e95b-b38f3f52536a",
        "colab": {
          "base_uri": "https://localhost:8080/"
        }
      },
      "source": [
        "for ent in doc7.ents:\n",
        "    print(ent.text, ent.start_char, ent.end_char, ent.label_)"
      ],
      "execution_count": 37,
      "outputs": [
        {
          "output_type": "stream",
          "text": [
            "Apple 0 5 ORG\n",
            "U.K. 27 31 GPE\n",
            "1 billion 44 53 CARDINAL\n"
          ],
          "name": "stdout"
        }
      ]
    },
    {
      "cell_type": "code",
      "metadata": {
        "id": "M-kt6zFtP29K",
        "outputId": "ded27556-a899-4270-f3ab-efa7e5b0a580",
        "colab": {
          "base_uri": "https://localhost:8080/",
          "height": 52
        }
      },
      "source": [
        "displacy.render(doc7, style=\"ent\", jupyter=True)"
      ],
      "execution_count": 38,
      "outputs": [
        {
          "output_type": "display_data",
          "data": {
            "text/html": [
              "<span class=\"tex2jax_ignore\"><div class=\"entities\" style=\"line-height: 2.5; direction: ltr\">\n",
              "<mark class=\"entity\" style=\"background: #7aecec; padding: 0.45em 0.6em; margin: 0 0.25em; line-height: 1; border-radius: 0.35em;\">\n",
              "    Apple\n",
              "    <span style=\"font-size: 0.8em; font-weight: bold; line-height: 1; border-radius: 0.35em; text-transform: uppercase; vertical-align: middle; margin-left: 0.5rem\">ORG</span>\n",
              "</mark>\n",
              " is looking at buying \n",
              "<mark class=\"entity\" style=\"background: #feca74; padding: 0.45em 0.6em; margin: 0 0.25em; line-height: 1; border-radius: 0.35em;\">\n",
              "    U.K.\n",
              "    <span style=\"font-size: 0.8em; font-weight: bold; line-height: 1; border-radius: 0.35em; text-transform: uppercase; vertical-align: middle; margin-left: 0.5rem\">GPE</span>\n",
              "</mark>\n",
              " startup for \n",
              "<mark class=\"entity\" style=\"background: #e4e7d2; padding: 0.45em 0.6em; margin: 0 0.25em; line-height: 1; border-radius: 0.35em;\">\n",
              "    1 billion\n",
              "    <span style=\"font-size: 0.8em; font-weight: bold; line-height: 1; border-radius: 0.35em; text-transform: uppercase; vertical-align: middle; margin-left: 0.5rem\">CARDINAL</span>\n",
              "</mark>\n",
              " USD</div></span>"
            ],
            "text/plain": [
              "<IPython.core.display.HTML object>"
            ]
          },
          "metadata": {
            "tags": []
          }
        }
      ]
    },
    {
      "cell_type": "code",
      "metadata": {
        "id": "LBS2-ke3-vLv",
        "outputId": "47034cd6-15ba-412a-c28d-5cfb83d32417",
        "colab": {
          "base_uri": "https://localhost:8080/",
          "height": 192
        }
      },
      "source": [
        "displacy.render(doc6, style=\"ent\", jupyter=True)"
      ],
      "execution_count": 39,
      "outputs": [
        {
          "output_type": "display_data",
          "data": {
            "text/html": [
              "<span class=\"tex2jax_ignore\"><div class=\"entities\" style=\"line-height: 2.5; direction: ltr\">In ancient \n",
              "<mark class=\"entity\" style=\"background: #feca74; padding: 0.45em 0.6em; margin: 0 0.25em; line-height: 1; border-radius: 0.35em;\">\n",
              "    Rome\n",
              "    <span style=\"font-size: 0.8em; font-weight: bold; line-height: 1; border-radius: 0.35em; text-transform: uppercase; vertical-align: middle; margin-left: 0.5rem\">GPE</span>\n",
              "</mark>\n",
              ", some neighbors live in \n",
              "<mark class=\"entity\" style=\"background: #e4e7d2; padding: 0.45em 0.6em; margin: 0 0.25em; line-height: 1; border-radius: 0.35em;\">\n",
              "    three\n",
              "    <span style=\"font-size: 0.8em; font-weight: bold; line-height: 1; border-radius: 0.35em; text-transform: uppercase; vertical-align: middle; margin-left: 0.5rem\">CARDINAL</span>\n",
              "</mark>\n",
              " adjacent houses. In the center is the house of \n",
              "<mark class=\"entity\" style=\"background: #feca74; padding: 0.45em 0.6em; margin: 0 0.25em; line-height: 1; border-radius: 0.35em;\">\n",
              "    Senex\n",
              "    <span style=\"font-size: 0.8em; font-weight: bold; line-height: 1; border-radius: 0.35em; text-transform: uppercase; vertical-align: middle; margin-left: 0.5rem\">GPE</span>\n",
              "</mark>\n",
              ", who lives there with wife \n",
              "<mark class=\"entity\" style=\"background: #aa9cfc; padding: 0.45em 0.6em; margin: 0 0.25em; line-height: 1; border-radius: 0.35em;\">\n",
              "    Domina\n",
              "    <span style=\"font-size: 0.8em; font-weight: bold; line-height: 1; border-radius: 0.35em; text-transform: uppercase; vertical-align: middle; margin-left: 0.5rem\">PERSON</span>\n",
              "</mark>\n",
              ", son \n",
              "<mark class=\"entity\" style=\"background: #aa9cfc; padding: 0.45em 0.6em; margin: 0 0.25em; line-height: 1; border-radius: 0.35em;\">\n",
              "    Hero\n",
              "    <span style=\"font-size: 0.8em; font-weight: bold; line-height: 1; border-radius: 0.35em; text-transform: uppercase; vertical-align: middle; margin-left: 0.5rem\">PERSON</span>\n",
              "</mark>\n",
              ", and several slaves, including head slave Hysterium and the musical's main character \n",
              "<mark class=\"entity\" style=\"background: #feca74; padding: 0.45em 0.6em; margin: 0 0.25em; line-height: 1; border-radius: 0.35em;\">\n",
              "    Pseudolus\n",
              "    <span style=\"font-size: 0.8em; font-weight: bold; line-height: 1; border-radius: 0.35em; text-transform: uppercase; vertical-align: middle; margin-left: 0.5rem\">GPE</span>\n",
              "</mark>\n",
              ". A slave belonging to \n",
              "<mark class=\"entity\" style=\"background: #aa9cfc; padding: 0.45em 0.6em; margin: 0 0.25em; line-height: 1; border-radius: 0.35em;\">\n",
              "    Hero\n",
              "    <span style=\"font-size: 0.8em; font-weight: bold; line-height: 1; border-radius: 0.35em; text-transform: uppercase; vertical-align: middle; margin-left: 0.5rem\">PERSON</span>\n",
              "</mark>\n",
              ", \n",
              "<mark class=\"entity\" style=\"background: #feca74; padding: 0.45em 0.6em; margin: 0 0.25em; line-height: 1; border-radius: 0.35em;\">\n",
              "    Pseudolus\n",
              "    <span style=\"font-size: 0.8em; font-weight: bold; line-height: 1; border-radius: 0.35em; text-transform: uppercase; vertical-align: middle; margin-left: 0.5rem\">GPE</span>\n",
              "</mark>\n",
              " wishes to buy, win, or steal his freedom. \n",
              "<mark class=\"entity\" style=\"background: #e4e7d2; padding: 0.45em 0.6em; margin: 0 0.25em; line-height: 1; border-radius: 0.35em;\">\n",
              "    One\n",
              "    <span style=\"font-size: 0.8em; font-weight: bold; line-height: 1; border-radius: 0.35em; text-transform: uppercase; vertical-align: middle; margin-left: 0.5rem\">CARDINAL</span>\n",
              "</mark>\n",
              " of the neighboring houses is owned by \n",
              "<mark class=\"entity\" style=\"background: #7aecec; padding: 0.45em 0.6em; margin: 0 0.25em; line-height: 1; border-radius: 0.35em;\">\n",
              "    Marcus Lycus\n",
              "    <span style=\"font-size: 0.8em; font-weight: bold; line-height: 1; border-radius: 0.35em; text-transform: uppercase; vertical-align: middle; margin-left: 0.5rem\">ORG</span>\n",
              "</mark>\n",
              ", who is a buyer and seller of beautiful women; the other belongs to the ancient \n",
              "<mark class=\"entity\" style=\"background: #aa9cfc; padding: 0.45em 0.6em; margin: 0 0.25em; line-height: 1; border-radius: 0.35em;\">\n",
              "    Erronius\n",
              "    <span style=\"font-size: 0.8em; font-weight: bold; line-height: 1; border-radius: 0.35em; text-transform: uppercase; vertical-align: middle; margin-left: 0.5rem\">PERSON</span>\n",
              "</mark>\n",
              ", who is abroad searching for his long-lost children (stolen in infancy by pirates). \n",
              "<mark class=\"entity\" style=\"background: #bfe1d9; padding: 0.45em 0.6em; margin: 0 0.25em; line-height: 1; border-radius: 0.35em;\">\n",
              "    One day\n",
              "    <span style=\"font-size: 0.8em; font-weight: bold; line-height: 1; border-radius: 0.35em; text-transform: uppercase; vertical-align: middle; margin-left: 0.5rem\">DATE</span>\n",
              "</mark>\n",
              ", \n",
              "<mark class=\"entity\" style=\"background: #feca74; padding: 0.45em 0.6em; margin: 0 0.25em; line-height: 1; border-radius: 0.35em;\">\n",
              "    Senex\n",
              "    <span style=\"font-size: 0.8em; font-weight: bold; line-height: 1; border-radius: 0.35em; text-transform: uppercase; vertical-align: middle; margin-left: 0.5rem\">GPE</span>\n",
              "</mark>\n",
              " and \n",
              "<mark class=\"entity\" style=\"background: #aa9cfc; padding: 0.45em 0.6em; margin: 0 0.25em; line-height: 1; border-radius: 0.35em;\">\n",
              "    Domina\n",
              "    <span style=\"font-size: 0.8em; font-weight: bold; line-height: 1; border-radius: 0.35em; text-transform: uppercase; vertical-align: middle; margin-left: 0.5rem\">PERSON</span>\n",
              "</mark>\n",
              " go on a trip and leave Pseudolus in charge of \n",
              "<mark class=\"entity\" style=\"background: #aa9cfc; padding: 0.45em 0.6em; margin: 0 0.25em; line-height: 1; border-radius: 0.35em;\">\n",
              "    Hero\n",
              "    <span style=\"font-size: 0.8em; font-weight: bold; line-height: 1; border-radius: 0.35em; text-transform: uppercase; vertical-align: middle; margin-left: 0.5rem\">PERSON</span>\n",
              "</mark>\n",
              ". \n",
              "<mark class=\"entity\" style=\"background: #aa9cfc; padding: 0.45em 0.6em; margin: 0 0.25em; line-height: 1; border-radius: 0.35em;\">\n",
              "    Hero\n",
              "    <span style=\"font-size: 0.8em; font-weight: bold; line-height: 1; border-radius: 0.35em; text-transform: uppercase; vertical-align: middle; margin-left: 0.5rem\">PERSON</span>\n",
              "</mark>\n",
              " confides in \n",
              "<mark class=\"entity\" style=\"background: #feca74; padding: 0.45em 0.6em; margin: 0 0.25em; line-height: 1; border-radius: 0.35em;\">\n",
              "    Pseudolus\n",
              "    <span style=\"font-size: 0.8em; font-weight: bold; line-height: 1; border-radius: 0.35em; text-transform: uppercase; vertical-align: middle; margin-left: 0.5rem\">GPE</span>\n",
              "</mark>\n",
              " that he is in love with the lovely \n",
              "<mark class=\"entity\" style=\"background: #feca74; padding: 0.45em 0.6em; margin: 0 0.25em; line-height: 1; border-radius: 0.35em;\">\n",
              "    Philia\n",
              "    <span style=\"font-size: 0.8em; font-weight: bold; line-height: 1; border-radius: 0.35em; text-transform: uppercase; vertical-align: middle; margin-left: 0.5rem\">GPE</span>\n",
              "</mark>\n",
              ", one of the courtesans in \n",
              "<mark class=\"entity\" style=\"background: #7aecec; padding: 0.45em 0.6em; margin: 0 0.25em; line-height: 1; border-radius: 0.35em;\">\n",
              "    the House of Lycus\n",
              "    <span style=\"font-size: 0.8em; font-weight: bold; line-height: 1; border-radius: 0.35em; text-transform: uppercase; vertical-align: middle; margin-left: 0.5rem\">ORG</span>\n",
              "</mark>\n",
              " (albeit still a virgin).</div></span>"
            ],
            "text/plain": [
              "<IPython.core.display.HTML object>"
            ]
          },
          "metadata": {
            "tags": []
          }
        }
      ]
    },
    {
      "cell_type": "markdown",
      "metadata": {
        "id": "cTx01agLvxGi"
      },
      "source": [
        "## Word vectors and similarity\n",
        "\n",
        "The similarity or distance between two words can be done by comparing **word vectors** or *word embeddings*, which are multi-dimensional meaning representations of a word.\n",
        "\n",
        "Word vectors are usually created by using an algorithm like word2vec.\n",
        "\n",
        "To make them compact and fast, spaCy’s small models (all packages that end in sm) don’t ship with word vectors, and only include context-sensitive tensors. This means you can still use the similarity() methods to compare documents, spans and tokens – but the result won’t be as good, and individual tokens won’t have any vectors assigned. So in order to use real word vectors, you need to download a larger model, such as `en_core_web_md` or `en_core_web_lg`.\n",
        "\n",
        "**IMPORTANT!!** In Google Colab, download the following cell and then restart runtime to locate the downloaded model.\n",
        "\n",
        "A word vector looks like the following array: \n",
        "\n",
        "![alt text](https://miro.medium.com/max/560/1*Bp64BP0Buo9ZZWIyh6QzEQ.png)"
      ]
    },
    {
      "cell_type": "code",
      "metadata": {
        "id": "f2lQoQpowKC-",
        "outputId": "cf738260-e2c4-4be2-bdf5-a48e6f8a36c5",
        "colab": {
          "base_uri": "https://localhost:8080/"
        }
      },
      "source": [
        "!python -m spacy download en_core_web_md"
      ],
      "execution_count": 40,
      "outputs": [
        {
          "output_type": "stream",
          "text": [
            "Collecting en_core_web_md==2.2.5\n",
            "\u001b[?25l  Downloading https://github.com/explosion/spacy-models/releases/download/en_core_web_md-2.2.5/en_core_web_md-2.2.5.tar.gz (96.4MB)\n",
            "\u001b[K     |████████████████████████████████| 96.4MB 90.3MB/s \n",
            "\u001b[?25hRequirement already satisfied: spacy>=2.2.2 in /usr/local/lib/python3.6/dist-packages (from en_core_web_md==2.2.5) (2.2.4)\n",
            "Requirement already satisfied: requests<3.0.0,>=2.13.0 in /usr/local/lib/python3.6/dist-packages (from spacy>=2.2.2->en_core_web_md==2.2.5) (2.23.0)\n",
            "Requirement already satisfied: murmurhash<1.1.0,>=0.28.0 in /usr/local/lib/python3.6/dist-packages (from spacy>=2.2.2->en_core_web_md==2.2.5) (1.0.3)\n",
            "Requirement already satisfied: wasabi<1.1.0,>=0.4.0 in /usr/local/lib/python3.6/dist-packages (from spacy>=2.2.2->en_core_web_md==2.2.5) (0.8.0)\n",
            "Requirement already satisfied: srsly<1.1.0,>=1.0.2 in /usr/local/lib/python3.6/dist-packages (from spacy>=2.2.2->en_core_web_md==2.2.5) (1.0.2)\n",
            "Requirement already satisfied: thinc==7.4.0 in /usr/local/lib/python3.6/dist-packages (from spacy>=2.2.2->en_core_web_md==2.2.5) (7.4.0)\n",
            "Requirement already satisfied: cymem<2.1.0,>=2.0.2 in /usr/local/lib/python3.6/dist-packages (from spacy>=2.2.2->en_core_web_md==2.2.5) (2.0.4)\n",
            "Requirement already satisfied: numpy>=1.15.0 in /usr/local/lib/python3.6/dist-packages (from spacy>=2.2.2->en_core_web_md==2.2.5) (1.18.5)\n",
            "Requirement already satisfied: tqdm<5.0.0,>=4.38.0 in /usr/local/lib/python3.6/dist-packages (from spacy>=2.2.2->en_core_web_md==2.2.5) (4.41.1)\n",
            "Requirement already satisfied: plac<1.2.0,>=0.9.6 in /usr/local/lib/python3.6/dist-packages (from spacy>=2.2.2->en_core_web_md==2.2.5) (1.1.3)\n",
            "Requirement already satisfied: setuptools in /usr/local/lib/python3.6/dist-packages (from spacy>=2.2.2->en_core_web_md==2.2.5) (50.3.2)\n",
            "Requirement already satisfied: preshed<3.1.0,>=3.0.2 in /usr/local/lib/python3.6/dist-packages (from spacy>=2.2.2->en_core_web_md==2.2.5) (3.0.2)\n",
            "Requirement already satisfied: blis<0.5.0,>=0.4.0 in /usr/local/lib/python3.6/dist-packages (from spacy>=2.2.2->en_core_web_md==2.2.5) (0.4.1)\n",
            "Requirement already satisfied: catalogue<1.1.0,>=0.0.7 in /usr/local/lib/python3.6/dist-packages (from spacy>=2.2.2->en_core_web_md==2.2.5) (1.0.0)\n",
            "Requirement already satisfied: chardet<4,>=3.0.2 in /usr/local/lib/python3.6/dist-packages (from requests<3.0.0,>=2.13.0->spacy>=2.2.2->en_core_web_md==2.2.5) (3.0.4)\n",
            "Requirement already satisfied: urllib3!=1.25.0,!=1.25.1,<1.26,>=1.21.1 in /usr/local/lib/python3.6/dist-packages (from requests<3.0.0,>=2.13.0->spacy>=2.2.2->en_core_web_md==2.2.5) (1.24.3)\n",
            "Requirement already satisfied: idna<3,>=2.5 in /usr/local/lib/python3.6/dist-packages (from requests<3.0.0,>=2.13.0->spacy>=2.2.2->en_core_web_md==2.2.5) (2.10)\n",
            "Requirement already satisfied: certifi>=2017.4.17 in /usr/local/lib/python3.6/dist-packages (from requests<3.0.0,>=2.13.0->spacy>=2.2.2->en_core_web_md==2.2.5) (2020.6.20)\n",
            "Requirement already satisfied: importlib-metadata>=0.20; python_version < \"3.8\" in /usr/local/lib/python3.6/dist-packages (from catalogue<1.1.0,>=0.0.7->spacy>=2.2.2->en_core_web_md==2.2.5) (2.0.0)\n",
            "Requirement already satisfied: zipp>=0.5 in /usr/local/lib/python3.6/dist-packages (from importlib-metadata>=0.20; python_version < \"3.8\"->catalogue<1.1.0,>=0.0.7->spacy>=2.2.2->en_core_web_md==2.2.5) (3.4.0)\n",
            "Building wheels for collected packages: en-core-web-md\n",
            "  Building wheel for en-core-web-md (setup.py) ... \u001b[?25l\u001b[?25hdone\n",
            "  Created wheel for en-core-web-md: filename=en_core_web_md-2.2.5-cp36-none-any.whl size=98051305 sha256=90300d69a0cc8c28f0f4fea26de8fd852f9d79232e25bf87f8b8b3ef64b104a0\n",
            "  Stored in directory: /tmp/pip-ephem-wheel-cache-grxwkya0/wheels/df/94/ad/f5cf59224cea6b5686ac4fd1ad19c8a07bc026e13c36502d81\n",
            "Successfully built en-core-web-md\n",
            "Installing collected packages: en-core-web-md\n",
            "Successfully installed en-core-web-md-2.2.5\n",
            "\u001b[38;5;2m✔ Download and installation successful\u001b[0m\n",
            "You can now load the model via spacy.load('en_core_web_md')\n"
          ],
          "name": "stdout"
        }
      ]
    },
    {
      "cell_type": "markdown",
      "metadata": {
        "id": "aWqmnIZa0yzy"
      },
      "source": [
        "The word vectors can be explored with the following techniques then:\n",
        "\n",
        "* **Text**: The original token text.\n",
        "* **has vector**: Does the token have a vector representation?\n",
        "* **Vector norm**: The L2 norm of the token’s vector (the square root of the sum of the values squared)\n",
        "* **OOV**: Out-of-vocabulary"
      ]
    },
    {
      "cell_type": "code",
      "metadata": {
        "id": "fkPFASlR_iOI",
        "outputId": "a177b12e-f8b0-4769-a8f6-696231882fe4",
        "colab": {
          "base_uri": "https://localhost:8080/"
        }
      },
      "source": [
        "import spacy\n",
        "\n",
        "nlp = spacy.load(\"en_core_web_md\")\n",
        "tokens = nlp(\"dog cat banana afskfsd\")\n",
        "\n",
        "for token in tokens:\n",
        "    print(token.text, token.has_vector, token.vector_norm, token.is_oov)"
      ],
      "execution_count": 1,
      "outputs": [
        {
          "output_type": "stream",
          "text": [
            "dog True 7.0336733 False\n",
            "cat True 6.6808186 False\n",
            "banana True 6.700014 False\n",
            "afskfsd False 0.0 True\n"
          ],
          "name": "stdout"
        }
      ]
    },
    {
      "cell_type": "markdown",
      "metadata": {
        "id": "QT-fbAZf2bfB"
      },
      "source": [
        "The words “dog”, “cat” and “banana” are all pretty common in English, so they’re part of the model’s vocabulary, and come with a vector. The word “afskfsd” on the other hand is a lot less common and out-of-vocabulary – so its vector representation consists of 300 dimensions of 0, which means it’s practically nonexistent. \n",
        "\n",
        "spaCy is able to compare two objects, and make a prediction of how similar they are. Predicting similarity is useful for building recommendation systems or flagging duplicates. For example, you can suggest a user content that’s similar to what they’re currently looking at, or label a support ticket as a duplicate if it’s very similar to an already existing one.\n",
        "\n",
        "Each Doc, Span and Token comes with a .similarity() method that lets you compare it with another object, and determine the similarity. Of course similarity is always subjective – whether “dog” and “cat” are similar really depends on how you’re looking at it. spaCy’s similarity model usually assumes a pretty general-purpose definition of similarity."
      ]
    },
    {
      "cell_type": "code",
      "metadata": {
        "id": "QM55wLVeyra1",
        "outputId": "641db032-91d8-4c1b-fe7c-6cae04d2ccaa",
        "colab": {
          "base_uri": "https://localhost:8080/"
        }
      },
      "source": [
        "import spacy\n",
        "\n",
        "nlp = spacy.load(\"en_core_web_md\")  # make sure to use larger model!\n",
        "tokens = nlp(\"dog cat banana\")\n",
        "\n",
        "for token1 in tokens:\n",
        "    for token2 in tokens:\n",
        "        print(token1.text, token2.text, token1.similarity(token2))"
      ],
      "execution_count": 2,
      "outputs": [
        {
          "output_type": "stream",
          "text": [
            "dog dog 1.0\n",
            "dog cat 0.80168545\n",
            "dog banana 0.24327643\n",
            "cat dog 0.80168545\n",
            "cat cat 1.0\n",
            "cat banana 0.28154364\n",
            "banana dog 0.24327643\n",
            "banana cat 0.28154364\n",
            "banana banana 1.0\n"
          ],
          "name": "stdout"
        }
      ]
    },
    {
      "cell_type": "markdown",
      "metadata": {
        "id": "PaCnvLAi6iGW"
      },
      "source": [
        "## The Vocab object\n",
        "\n",
        "spaCy tries to store the data in a vocabulary, i.e. `Vocab` that is shared by multiple documents. \n",
        "\n",
        "To save memory, spaCy also encodes all strings to hash values – in this case for example, “coffee” has the hash 3197928453018144401. Entity labels like “ORG” and part-of-speech tags like “VERB” are also encoded. Internally, spaCy only “speaks” in hash values.\n",
        "\n",
        "* **Token**: A word, punctuation mark etc. in context, including its attributes, tags and dependencies.\n",
        "* **Lexeme**: A “word type” with no context. Includes the word shape and flags, e.g. if it’s lowercase, a digit or punctuation.\n",
        "* **Doc**: A processed container of tokens in context.\n",
        "* **Vocab**: The collection of lexemes.\n",
        "* **StringStore**: The dictionary mapping hash values to strings, for example 3197928453018144401 → “coffee”.\n",
        "\n",
        "Thus: \n",
        "\n",
        "* `Vocab` objects contain a set of look-up tables that make common information available across documents.\n",
        "* Indexing the `Vocab` retrieves a `Lexeme`, which contains all the context-independent information about a word.\n",
        "\n",
        "![alt text](https://spacy.io/vocab_stringstore-1d1c9ccd7a1cf4d168bfe4ca791e6eed.svg)\n",
        "\n"
      ]
    },
    {
      "cell_type": "code",
      "metadata": {
        "id": "Qj-5mite9mIK",
        "outputId": "6e103ca2-39a5-4f59-be0b-8f483c8e2c8d",
        "colab": {
          "base_uri": "https://localhost:8080/",
          "height": 34
        }
      },
      "source": [
        "nlp.vocab"
      ],
      "execution_count": null,
      "outputs": [
        {
          "output_type": "execute_result",
          "data": {
            "text/plain": [
              "<spacy.vocab.Vocab at 0x7f8565e89138>"
            ]
          },
          "metadata": {
            "tags": []
          },
          "execution_count": 4
        }
      ]
    },
    {
      "cell_type": "code",
      "metadata": {
        "id": "Vg-Q-_XV9sqm",
        "outputId": "59bfdc59-2db5-4929-a615-694204815ec2",
        "colab": {
          "base_uri": "https://localhost:8080/",
          "height": 34
        }
      },
      "source": [
        "doc7.vocab[\"Apple\"]"
      ],
      "execution_count": null,
      "outputs": [
        {
          "output_type": "execute_result",
          "data": {
            "text/plain": [
              "<spacy.lexeme.Lexeme at 0x7f85670315a0>"
            ]
          },
          "metadata": {
            "tags": []
          },
          "execution_count": 6
        }
      ]
    },
    {
      "cell_type": "code",
      "metadata": {
        "id": "vjCFRsyo94G1",
        "outputId": "a7def412-7c4d-4a82-9b98-bc8794d7e6a4",
        "colab": {
          "base_uri": "https://localhost:8080/",
          "height": 34
        }
      },
      "source": [
        "lex = doc7.vocab[\"million\"]\n",
        "lex"
      ],
      "execution_count": null,
      "outputs": [
        {
          "output_type": "execute_result",
          "data": {
            "text/plain": [
              "<spacy.lexeme.Lexeme at 0x7f8567031558>"
            ]
          },
          "metadata": {
            "tags": []
          },
          "execution_count": 7
        }
      ]
    },
    {
      "cell_type": "code",
      "metadata": {
        "id": "dixcACbB994o",
        "outputId": "ffbbb94e-10a1-461d-a66b-e27567f509fb",
        "colab": {
          "base_uri": "https://localhost:8080/",
          "height": 34
        }
      },
      "source": [
        "lex.shape_"
      ],
      "execution_count": null,
      "outputs": [
        {
          "output_type": "execute_result",
          "data": {
            "text/plain": [
              "'xxxx'"
            ]
          },
          "metadata": {
            "tags": []
          },
          "execution_count": 8
        }
      ]
    },
    {
      "cell_type": "code",
      "metadata": {
        "id": "-1I3Kp_V-AzH",
        "outputId": "c65ab9d6-c5d9-49cf-c78d-16fcd1979118",
        "colab": {
          "base_uri": "https://localhost:8080/",
          "height": 34
        }
      },
      "source": [
        "lex.text"
      ],
      "execution_count": null,
      "outputs": [
        {
          "output_type": "execute_result",
          "data": {
            "text/plain": [
              "'million'"
            ]
          },
          "metadata": {
            "tags": []
          },
          "execution_count": 9
        }
      ]
    },
    {
      "cell_type": "code",
      "metadata": {
        "id": "T6gbPjeh-B_j",
        "outputId": "addbcaeb-bae4-42ce-f58c-e451840d7360",
        "colab": {
          "base_uri": "https://localhost:8080/",
          "height": 34
        }
      },
      "source": [
        "lex.is_alpha"
      ],
      "execution_count": null,
      "outputs": [
        {
          "output_type": "execute_result",
          "data": {
            "text/plain": [
              "True"
            ]
          },
          "metadata": {
            "tags": []
          },
          "execution_count": 10
        }
      ]
    },
    {
      "cell_type": "markdown",
      "metadata": {
        "id": "pgVUba0w6x-c"
      },
      "source": [
        "# Hands on: practical examples"
      ]
    },
    {
      "cell_type": "markdown",
      "metadata": {
        "id": "KQJAS9b67KIB"
      },
      "source": [
        "## Word frequency\n",
        "\n",
        "We can compute the word frequency on a text using spaCy. Within the Holy Grail dataset, lets:\n",
        "\n",
        "\n",
        "\n",
        "*   Let's find the 5 most common nouns\n",
        "*   Let's find the 20 most common lemmas that are not stopwords\n",
        "\n"
      ]
    },
    {
      "cell_type": "code",
      "metadata": {
        "id": "uZ3zlWUS602k",
        "outputId": "4e09592c-5352-450e-cae4-5f9605b99a4e",
        "colab": {
          "base_uri": "https://localhost:8080/"
        }
      },
      "source": [
        "!wget 'https://raw.githubusercontent.com/vfp1/bts-dsf-2020/main/data/what_da_holy.txt'"
      ],
      "execution_count": 7,
      "outputs": [
        {
          "output_type": "stream",
          "text": [
            "--2020-11-17 05:17:58--  https://raw.githubusercontent.com/vfp1/bts-dsf-2020/main/data/what_da_holy.txt\n",
            "Resolving raw.githubusercontent.com (raw.githubusercontent.com)... 151.101.0.133, 151.101.64.133, 151.101.128.133, ...\n",
            "Connecting to raw.githubusercontent.com (raw.githubusercontent.com)|151.101.0.133|:443... connected.\n",
            "HTTP request sent, awaiting response... 200 OK\n",
            "Length: 65003 (63K) [text/plain]\n",
            "Saving to: ‘what_da_holy.txt’\n",
            "\n",
            "what_da_holy.txt    100%[===================>]  63.48K  --.-KB/s    in 0.001s  \n",
            "\n",
            "2020-11-17 05:17:58 (43.6 MB/s) - ‘what_da_holy.txt’ saved [65003/65003]\n",
            "\n"
          ],
          "name": "stdout"
        }
      ]
    },
    {
      "cell_type": "markdown",
      "metadata": {
        "id": "q5ltWhKMGdbM"
      },
      "source": [
        "### Find the 5 most common nouns"
      ]
    },
    {
      "cell_type": "code",
      "metadata": {
        "id": "A8ETiMYyBkqo"
      },
      "source": [
        "import spacy\n",
        "\n",
        "nlp = spacy.load(\"en\")\n",
        "\n",
        "holy_grail = nlp(open('what_da_holy.txt', 'r').read())"
      ],
      "execution_count": 9,
      "outputs": []
    },
    {
      "cell_type": "code",
      "metadata": {
        "id": "LMsQCxazDBe-"
      },
      "source": [
        "from collections import Counter\n",
        "from spacy.lang.en.stop_words import STOP_WORDS\n",
        "\n",
        "char_counter = Counter()\n",
        "\n",
        "for token in holy_grail:\n",
        "    if token.pos_ == 'NOUN' and token.text not in STOP_WORDS and token.text != '#':\n",
        "        char_counter[token.text] += 1"
      ],
      "execution_count": 12,
      "outputs": []
    },
    {
      "cell_type": "code",
      "metadata": {
        "id": "2ryIDsxuDONW",
        "outputId": "d2900746-5826-4343-da92-df0c597011e9",
        "colab": {
          "base_uri": "https://localhost:8080/"
        }
      },
      "source": [
        "char_counter.most_common(5)"
      ],
      "execution_count": 13,
      "outputs": [
        {
          "output_type": "execute_result",
          "data": {
            "text/plain": [
              "[('boom', 45), ('clop', 39), ('witch', 37), ('BEDEVERE', 32), ('singing', 30)]"
            ]
          },
          "metadata": {
            "tags": []
          },
          "execution_count": 13
        }
      ]
    },
    {
      "cell_type": "markdown",
      "metadata": {
        "id": "hdz3FWI9Gi79"
      },
      "source": [
        "### Find the 20 most common lemmas that are not stopwords"
      ]
    },
    {
      "cell_type": "code",
      "metadata": {
        "id": "NIXHe3iCGxMx"
      },
      "source": [
        "from collections import Counter\n",
        "from spacy.lang.en.stop_words import STOP_WORDS\n",
        "\n",
        "lemmas = Counter()\n",
        "\n",
        "for token in holy_grail:\n",
        "    if token.pos_ != 'PROPN' and not token.is_punct and not token.is_digit and not token.is_space and token.lower_ not in STOP_WORDS:\n",
        "        lemmas[token.lemma_] += 1"
      ],
      "execution_count": 22,
      "outputs": []
    },
    {
      "cell_type": "code",
      "metadata": {
        "id": "yAn8t5kKHRMB",
        "outputId": "83176ac8-3f41-4202-ab7c-d5a295a6a0b1",
        "colab": {
          "base_uri": "https://localhost:8080/"
        }
      },
      "source": [
        "counts = Counter(lemmas)\n",
        "counts.most_common(20)"
      ],
      "execution_count": 23,
      "outputs": [
        {
          "output_type": "execute_result",
          "data": {
            "text/plain": [
              "[('oh', 110),\n",
              " ('ha', 59),\n",
              " ('right', 55),\n",
              " ('yes', 53),\n",
              " ('villager', 49),\n",
              " ('boom', 45),\n",
              " ('come', 43),\n",
              " ('witch', 43),\n",
              " ('clop', 39),\n",
              " ('away', 38),\n",
              " ('look', 36),\n",
              " ('stop', 34),\n",
              " ('burn', 34),\n",
              " ('uh', 33),\n",
              " ('get', 30),\n",
              " ('tell', 30),\n",
              " ('dead', 30),\n",
              " ('singing', 30),\n",
              " ('mumble', 30),\n",
              " ('music', 29)]"
            ]
          },
          "metadata": {
            "tags": []
          },
          "execution_count": 23
        }
      ]
    },
    {
      "cell_type": "markdown",
      "metadata": {
        "id": "rRRSwVjpJXxF"
      },
      "source": [
        "### Your turn\n",
        "\n",
        "* Let's find the 5 most common verbs\n",
        "* Let's find the 5 most common personal names\n",
        "* Let's find the 20 most common lemmas that are not stopwords, not numbers and not personal names"
      ]
    },
    {
      "cell_type": "code",
      "metadata": {
        "id": "eMzD5GpipS13"
      },
      "source": [
        ""
      ],
      "execution_count": null,
      "outputs": []
    },
    {
      "cell_type": "markdown",
      "metadata": {
        "id": "8_xXkO_b7WrG"
      },
      "source": [
        "## Dispersion plots\n",
        "\n",
        "1. Load the `holy_grail.txt` dataset and create a dictionary of names and indexes like `{\"NAME\": [1, 2, 5, 10, ...]}` to store when does each proper noun appear among the 5 most frequent ones.\n",
        "2. Visualize the appearances of the character that is named the most.\n",
        "3. Visualize in the same graph the appearances of the top 5 characters to compare them."
      ]
    },
    {
      "cell_type": "code",
      "metadata": {
        "id": "Jma_xH1s7YD0"
      },
      "source": [
        "from spacy import load\n",
        "\n",
        "nlp = load(\"en\")"
      ],
      "execution_count": 54,
      "outputs": []
    },
    {
      "cell_type": "code",
      "metadata": {
        "id": "lY3hpd3VIIDb"
      },
      "source": [
        "holy_grail = nlp(open(\"what_da_holy.txt\", 'r').read())"
      ],
      "execution_count": 55,
      "outputs": []
    },
    {
      "cell_type": "code",
      "metadata": {
        "id": "lcUhtPg3KMYa"
      },
      "source": [
        "# We are using Counter to start the tuple madness\n",
        "from collections import Counter\n",
        "\n",
        "char_counter = Counter()\n",
        "\n",
        "for token in holy_grail:\n",
        "    if token.pos_ == 'PROPN':\n",
        "        char_counter[token.text] += 1"
      ],
      "execution_count": 56,
      "outputs": []
    },
    {
      "cell_type": "code",
      "metadata": {
        "id": "FQLta8KLKQhc",
        "outputId": "128cb5fa-9be3-4c84-8ca5-0702b3d64dd7",
        "colab": {
          "base_uri": "https://localhost:8080/"
        }
      },
      "source": [
        "char_counter.most_common(10)"
      ],
      "execution_count": 92,
      "outputs": [
        {
          "output_type": "execute_result",
          "data": {
            "text/plain": [
              "[('ARTHUR', 225),\n",
              " ('LAUNCELOT', 76),\n",
              " ('GALAHAD', 69),\n",
              " ('KNIGHT', 68),\n",
              " ('FATHER', 62),\n",
              " ('HEAD', 53),\n",
              " ('Sir', 52),\n",
              " ('GUARD', 52),\n",
              " ('Ni', 47),\n",
              " ('KNIGHTS', 37)]"
            ]
          },
          "metadata": {
            "tags": []
          },
          "execution_count": 92
        }
      ]
    },
    {
      "cell_type": "markdown",
      "metadata": {
        "id": "gZSZrhV_ML2C"
      },
      "source": [
        "We get Sir or HEAD within the characters, actually HEAD is a character, but Sir is not, let's change that using a `special case`, instead of the longer and ardous task of training.\n",
        "\n",
        "* HEAD should be HEAD KNIGHT\n",
        "* NI should be KNIGHTS OF NI "
      ]
    },
    {
      "cell_type": "code",
      "metadata": {
        "id": "_Mpqv-9tMeUu"
      },
      "source": [
        "import spacy\n",
        "\n",
        "from spacy.symbols import ORTH, POS, NOUN, VERB, TAG, PROPN\n",
        "\n",
        "nlp_modified = spacy.load('en')\n",
        "nlp_modified.tokenizer.add_special_case('Sir', [{ORTH: 'Sir', POS: NOUN, TAG: NOUN}])\n",
        "nlp_modified.tokenizer.add_special_case('HEAD', [{ORTH: 'HEAD KNIGHT', POS: PROPN, TAG: PROPN}])\n",
        "nlp_modified.tokenizer.add_special_case('KNIGHT', [{ORTH: 'HEAD KNIGHT', POS: PROPN, TAG: PROPN}])\n",
        "nlp_modified.tokenizer.add_special_case('NI', [{ORTH: 'KNIGHTS OF NI', POS: PROPN, TAG: PROPN}])\n",
        "nlp_modified.tokenizer.add_special_case('Ni', [{ORTH: 'KNIGHTS OF NI', POS: PROPN, TAG: PROPN}])"
      ],
      "execution_count": 86,
      "outputs": []
    },
    {
      "cell_type": "markdown",
      "metadata": {
        "id": "SjikAIe0Mtmy"
      },
      "source": [
        "Let's try it again"
      ]
    },
    {
      "cell_type": "code",
      "metadata": {
        "id": "7eu6fFJRM9nB"
      },
      "source": [
        "holy_grail2 = nlp_modified(open(\"what_da_holy.txt\", 'r').read())"
      ],
      "execution_count": 87,
      "outputs": []
    },
    {
      "cell_type": "code",
      "metadata": {
        "id": "xCaMiq2lMxUm"
      },
      "source": [
        "from collections import Counter\n",
        "\n",
        "char_counter2 = Counter()\n",
        "\n",
        "for token in holy_grail2:\n",
        "    if token.pos_ == 'PROPN':\n",
        "        char_counter2[token.text] += 1"
      ],
      "execution_count": 88,
      "outputs": []
    },
    {
      "cell_type": "code",
      "metadata": {
        "id": "ERH8zzWgMzI6",
        "outputId": "78be4acd-e536-48a4-cd20-61658ef5b2f3",
        "colab": {
          "base_uri": "https://localhost:8080/"
        }
      },
      "source": [
        "char_counter2.most_common(5)"
      ],
      "execution_count": 90,
      "outputs": [
        {
          "output_type": "execute_result",
          "data": {
            "text/plain": [
              "[('ARTHUR', 225),\n",
              " ('HEAD KNIGHT', 122),\n",
              " ('LAUNCELOT', 76),\n",
              " ('GALAHAD', 69),\n",
              " ('KNIGHTS OF NI', 62)]"
            ]
          },
          "metadata": {
            "tags": []
          },
          "execution_count": 90
        }
      ]
    },
    {
      "cell_type": "markdown",
      "metadata": {
        "id": "BDL1Cl_wRpMB"
      },
      "source": [
        "### Visualize the most"
      ]
    },
    {
      "cell_type": "code",
      "metadata": {
        "id": "lH8gjzkYRtOp",
        "outputId": "33cbad3c-51d5-447b-cecc-45adee496d77",
        "colab": {
          "base_uri": "https://localhost:8080/"
        }
      },
      "source": [
        "char_counter2.most_common(1)"
      ],
      "execution_count": 118,
      "outputs": [
        {
          "output_type": "execute_result",
          "data": {
            "text/plain": [
              "[('ARTHUR', 225)]"
            ]
          },
          "metadata": {
            "tags": []
          },
          "execution_count": 118
        }
      ]
    },
    {
      "cell_type": "code",
      "metadata": {
        "id": "6Ceu5EvnKQ5-"
      },
      "source": [
        "names, _ = zip(*char_counter2.most_common(1))"
      ],
      "execution_count": 119,
      "outputs": []
    },
    {
      "cell_type": "code",
      "metadata": {
        "id": "BBitn2kSyaxb",
        "outputId": "06bd2af2-1d26-41e0-820a-efc0b46ae30a",
        "colab": {
          "base_uri": "https://localhost:8080/"
        }
      },
      "source": [
        "print(names)"
      ],
      "execution_count": 120,
      "outputs": [
        {
          "output_type": "stream",
          "text": [
            "('ARTHUR',)\n"
          ],
          "name": "stdout"
        }
      ]
    },
    {
      "cell_type": "code",
      "metadata": {
        "id": "IS94mXKWPh0t"
      },
      "source": [
        "from collections import defaultdict\n",
        "\n",
        "import matplotlib.pyplot as plt"
      ],
      "execution_count": 121,
      "outputs": []
    },
    {
      "cell_type": "code",
      "metadata": {
        "id": "xAu-X9I1RHLt"
      },
      "source": [
        "indexes = defaultdict(list)\n",
        "\n",
        "for token in holy_grail2:\n",
        "    if token.text in names:\n",
        "        indexes[token.text].append(token.i)"
      ],
      "execution_count": 122,
      "outputs": []
    },
    {
      "cell_type": "code",
      "metadata": {
        "id": "uo2zLp-ixby-",
        "outputId": "ebb9dcd8-8f99-4265-e556-6202dfbf932a",
        "colab": {
          "base_uri": "https://localhost:8080/"
        }
      },
      "source": [
        "print(indexes)"
      ],
      "execution_count": 123,
      "outputs": [
        {
          "output_type": "stream",
          "text": [
            "defaultdict(<class 'list'>, {'ARTHUR': [13, 37, 83, 147, 162, 188, 225, 250, 271, 316, 343, 393, 454, 468, 530, 1255, 1266, 1293, 1314, 1341, 1373, 1412, 1500, 1536, 1550, 1652, 1682, 1701, 1740, 1766, 1788, 1810, 1842, 1862, 1884, 1983, 2015, 2055, 2083, 2116, 2308, 2399, 2412, 2442, 2469, 2476, 2490, 2501, 2521, 2543, 2562, 2593, 2604, 2636, 2652, 2683, 2708, 2725, 2744, 2763, 2788, 2802, 2824, 2855, 2883, 3899, 4150, 4168, 4203, 4219, 4393, 4440, 4465, 4663, 4746, 4801, 4838, 4878, 4986, 5012, 5052, 5130, 5146, 5183, 5216, 5270, 5358, 5448, 5497, 5534, 5583, 5620, 5799, 5855, 5889, 5920, 9040, 9086, 9104, 9140, 9180, 9205, 9281, 9309, 9367, 9396, 9444, 9478, 9504, 9526, 9536, 9577, 9608, 9623, 13098, 13137, 13166, 13209, 13240, 13256, 13272, 13293, 13319, 13326, 13344, 13361, 13376, 13386, 13412, 13474, 13524, 13542, 13588, 13680, 13719, 13846, 13864, 13908, 13939, 13975, 14093, 14124, 14216, 14251, 14282, 14586, 14638, 14661, 14678, 14701, 14739, 14791, 14848, 14891, 14950, 14970, 14986, 15013, 15035, 15057, 15147, 15250, 15279, 15309, 15325, 15344, 15356, 15366, 15383, 15395, 15416, 15552, 15605, 15683, 15700, 15733, 15774, 15796, 15814, 15854, 15889, 15911, 15926, 16007, 16030, 16268, 16289, 16305, 16329, 16365, 16413, 16467, 16516, 16550, 16593, 16694, 16745, 16895, 16910, 16936, 16962, 16981, 17002, 17037, 17048, 17113, 17147, 17176, 17483, 17503, 17527, 17569, 17610, 17629, 17660, 17747, 17870, 17930, 17972, 18029, 18094, 18111, 18144, 18184, 18225]})\n"
          ],
          "name": "stdout"
        }
      ]
    },
    {
      "cell_type": "code",
      "metadata": {
        "id": "Ie9U4y2uRKa2",
        "outputId": "1470423d-f242-41da-a187-3e0279dd9cde",
        "colab": {
          "base_uri": "https://localhost:8080/",
          "height": 313
        }
      },
      "source": [
        "fig, axes = plt.subplots()\n",
        "\n",
        "axes.eventplot(indexes['ARTHUR'], label=names)\n",
        "axes.get_yaxis().set_visible(False)\n",
        "\n",
        "fig.legend()"
      ],
      "execution_count": 128,
      "outputs": [
        {
          "output_type": "execute_result",
          "data": {
            "text/plain": [
              "<matplotlib.legend.Legend at 0x7fd89e709dd8>"
            ]
          },
          "metadata": {
            "tags": []
          },
          "execution_count": 128
        },
        {
          "output_type": "display_data",
          "data": {
            "image/png": "[encoded data removed]",
            "text/plain": [
              "<Figure size 432x288 with 1 Axes>"
            ]
          },
          "metadata": {
            "tags": [],
            "needs_background": "light"
          }
        }
      ]
    },
    {
      "cell_type": "markdown",
      "metadata": {
        "id": "D0WqqmIiTHoY"
      },
      "source": [
        "### Visualize all"
      ]
    },
    {
      "cell_type": "code",
      "metadata": {
        "id": "oNCam-CtTlAW",
        "outputId": "eb920d55-16e3-4a31-a827-7b6086acd0e8",
        "colab": {
          "base_uri": "https://localhost:8080/"
        }
      },
      "source": [
        "char_counter2.most_common(5)"
      ],
      "execution_count": 104,
      "outputs": [
        {
          "output_type": "execute_result",
          "data": {
            "text/plain": [
              "[('ARTHUR', 225),\n",
              " ('HEAD KNIGHT', 122),\n",
              " ('LAUNCELOT', 76),\n",
              " ('GALAHAD', 69),\n",
              " ('KNIGHTS OF NI', 62)]"
            ]
          },
          "metadata": {
            "tags": []
          },
          "execution_count": 104
        }
      ]
    },
    {
      "cell_type": "code",
      "metadata": {
        "id": "Uv63xSimTlAb"
      },
      "source": [
        "names, _ = zip(*char_counter2.most_common(5))"
      ],
      "execution_count": 105,
      "outputs": []
    },
    {
      "cell_type": "code",
      "metadata": {
        "id": "CwwpqGVGl5iX",
        "outputId": "a9c263c9-9b26-459a-e275-b84c6e824fe2",
        "colab": {
          "base_uri": "https://localhost:8080/"
        }
      },
      "source": [
        "print(names, _)"
      ],
      "execution_count": 106,
      "outputs": [
        {
          "output_type": "stream",
          "text": [
            "('ARTHUR', 'HEAD KNIGHT', 'LAUNCELOT', 'GALAHAD', 'KNIGHTS OF NI') (225, 122, 76, 69, 62)\n"
          ],
          "name": "stdout"
        }
      ]
    },
    {
      "cell_type": "code",
      "metadata": {
        "id": "ekEirwPqTlAe"
      },
      "source": [
        "from collections import defaultdict\n",
        "\n",
        "import matplotlib.pyplot as plt"
      ],
      "execution_count": 107,
      "outputs": []
    },
    {
      "cell_type": "code",
      "metadata": {
        "id": "B_WuRbgYTlAg",
        "outputId": "a314ffa7-5d5d-4d29-b0aa-4e4e7d18dca7",
        "colab": {
          "base_uri": "https://localhost:8080/"
        }
      },
      "source": [
        "indexes = defaultdict(list)\n",
        "\n",
        "for token in holy_grail2:\n",
        "    if token.text in names:\n",
        "        print(token.i)\n",
        "        indexes[token.text].append(token.i)"
      ],
      "execution_count": 108,
      "outputs": [
        {
          "output_type": "stream",
          "text": [
            "13\n",
            "37\n",
            "83\n",
            "147\n",
            "162\n",
            "188\n",
            "225\n",
            "250\n",
            "271\n",
            "316\n",
            "343\n",
            "393\n",
            "454\n",
            "468\n",
            "530\n",
            "1255\n",
            "1266\n",
            "1293\n",
            "1314\n",
            "1341\n",
            "1373\n",
            "1412\n",
            "1500\n",
            "1536\n",
            "1550\n",
            "1652\n",
            "1682\n",
            "1701\n",
            "1740\n",
            "1766\n",
            "1788\n",
            "1810\n",
            "1842\n",
            "1862\n",
            "1884\n",
            "1983\n",
            "2015\n",
            "2055\n",
            "2083\n",
            "2116\n",
            "2186\n",
            "2202\n",
            "2208\n",
            "2226\n",
            "2232\n",
            "2249\n",
            "2258\n",
            "2261\n",
            "2273\n",
            "2285\n",
            "2288\n",
            "2298\n",
            "2308\n",
            "2392\n",
            "2399\n",
            "2405\n",
            "2412\n",
            "2434\n",
            "2442\n",
            "2460\n",
            "2469\n",
            "2476\n",
            "2479\n",
            "2490\n",
            "2494\n",
            "2501\n",
            "2512\n",
            "2521\n",
            "2534\n",
            "2543\n",
            "2554\n",
            "2562\n",
            "2569\n",
            "2593\n",
            "2597\n",
            "2604\n",
            "2624\n",
            "2636\n",
            "2642\n",
            "2652\n",
            "2673\n",
            "2683\n",
            "2701\n",
            "2708\n",
            "2714\n",
            "2725\n",
            "2734\n",
            "2744\n",
            "2763\n",
            "2767\n",
            "2775\n",
            "2788\n",
            "2796\n",
            "2802\n",
            "2817\n",
            "2824\n",
            "2833\n",
            "2855\n",
            "2859\n",
            "2867\n",
            "2883\n",
            "2891\n",
            "3899\n",
            "4150\n",
            "4168\n",
            "4203\n",
            "4219\n",
            "4393\n",
            "4429\n",
            "4440\n",
            "4446\n",
            "4451\n",
            "4465\n",
            "4663\n",
            "4746\n",
            "4801\n",
            "4838\n",
            "4878\n",
            "4953\n",
            "4966\n",
            "4986\n",
            "5012\n",
            "5052\n",
            "5130\n",
            "5135\n",
            "5146\n",
            "5183\n",
            "5216\n",
            "5251\n",
            "5270\n",
            "5350\n",
            "5358\n",
            "5411\n",
            "5448\n",
            "5497\n",
            "5534\n",
            "5583\n",
            "5608\n",
            "5620\n",
            "5799\n",
            "5855\n",
            "5889\n",
            "5920\n",
            "6090\n",
            "6098\n",
            "6521\n",
            "6535\n",
            "6542\n",
            "6554\n",
            "6565\n",
            "6574\n",
            "6587\n",
            "6601\n",
            "6627\n",
            "6639\n",
            "6651\n",
            "6657\n",
            "6667\n",
            "6683\n",
            "6692\n",
            "6699\n",
            "6718\n",
            "6734\n",
            "6748\n",
            "6778\n",
            "6784\n",
            "6793\n",
            "6820\n",
            "6828\n",
            "7153\n",
            "7213\n",
            "7256\n",
            "7274\n",
            "7380\n",
            "7401\n",
            "7428\n",
            "7461\n",
            "7500\n",
            "7619\n",
            "7669\n",
            "7691\n",
            "7732\n",
            "7751\n",
            "7771\n",
            "7801\n",
            "7825\n",
            "7850\n",
            "7926\n",
            "7946\n",
            "7965\n",
            "8001\n",
            "8057\n",
            "8138\n",
            "8407\n",
            "8419\n",
            "8425\n",
            "8432\n",
            "8437\n",
            "8442\n",
            "8447\n",
            "8452\n",
            "8469\n",
            "8477\n",
            "8489\n",
            "8502\n",
            "8511\n",
            "8523\n",
            "8568\n",
            "8580\n",
            "8629\n",
            "8640\n",
            "8711\n",
            "8729\n",
            "8739\n",
            "8753\n",
            "8769\n",
            "8779\n",
            "8800\n",
            "8818\n",
            "8833\n",
            "8843\n",
            "8852\n",
            "9040\n",
            "9086\n",
            "9104\n",
            "9140\n",
            "9180\n",
            "9205\n",
            "9254\n",
            "9255\n",
            "9257\n",
            "9259\n",
            "9264\n",
            "9266\n",
            "9269\n",
            "9272\n",
            "9275\n",
            "9278\n",
            "9281\n",
            "9288\n",
            "9289\n",
            "9300\n",
            "9306\n",
            "9309\n",
            "9320\n",
            "9324\n",
            "9325\n",
            "9338\n",
            "9339\n",
            "9350\n",
            "9367\n",
            "9381\n",
            "9382\n",
            "9389\n",
            "9396\n",
            "9400\n",
            "9418\n",
            "9419\n",
            "9421\n",
            "9426\n",
            "9428\n",
            "9431\n",
            "9434\n",
            "9437\n",
            "9440\n",
            "9444\n",
            "9458\n",
            "9459\n",
            "9478\n",
            "9489\n",
            "9490\n",
            "9504\n",
            "9512\n",
            "9514\n",
            "9517\n",
            "9520\n",
            "9523\n",
            "9526\n",
            "9536\n",
            "9555\n",
            "9556\n",
            "9577\n",
            "9582\n",
            "9599\n",
            "9600\n",
            "9608\n",
            "9614\n",
            "9615\n",
            "9623\n",
            "9628\n",
            "9629\n",
            "11076\n",
            "11096\n",
            "11145\n",
            "11261\n",
            "11292\n",
            "11317\n",
            "11363\n",
            "11381\n",
            "11464\n",
            "11480\n",
            "11502\n",
            "11519\n",
            "11572\n",
            "11610\n",
            "11634\n",
            "11669\n",
            "11725\n",
            "11749\n",
            "11771\n",
            "11793\n",
            "11845\n",
            "11905\n",
            "11936\n",
            "11971\n",
            "12024\n",
            "12056\n",
            "12088\n",
            "12112\n",
            "12139\n",
            "12243\n",
            "12290\n",
            "12388\n",
            "12663\n",
            "12939\n",
            "12969\n",
            "13004\n",
            "13023\n",
            "13047\n",
            "13098\n",
            "13137\n",
            "13144\n",
            "13166\n",
            "13209\n",
            "13240\n",
            "13242\n",
            "13256\n",
            "13272\n",
            "13293\n",
            "13316\n",
            "13319\n",
            "13323\n",
            "13326\n",
            "13344\n",
            "13348\n",
            "13358\n",
            "13361\n",
            "13363\n",
            "13373\n",
            "13376\n",
            "13378\n",
            "13383\n",
            "13386\n",
            "13388\n",
            "13393\n",
            "13412\n",
            "13474\n",
            "13521\n",
            "13524\n",
            "13542\n",
            "13547\n",
            "13563\n",
            "13564\n",
            "13588\n",
            "13595\n",
            "13596\n",
            "13610\n",
            "13616\n",
            "13618\n",
            "13624\n",
            "13625\n",
            "13664\n",
            "13667\n",
            "13668\n",
            "13680\n",
            "13697\n",
            "13701\n",
            "13702\n",
            "13719\n",
            "13728\n",
            "13731\n",
            "13732\n",
            "13775\n",
            "13789\n",
            "13795\n",
            "13798\n",
            "13801\n",
            "13811\n",
            "13812\n",
            "13846\n",
            "13856\n",
            "13857\n",
            "13864\n",
            "13884\n",
            "13892\n",
            "13893\n",
            "13908\n",
            "13914\n",
            "13915\n",
            "13933\n",
            "13939\n",
            "13961\n",
            "13966\n",
            "13967\n",
            "13975\n",
            "13986\n",
            "13999\n",
            "14000\n",
            "14027\n",
            "14093\n",
            "14113\n",
            "14114\n",
            "14124\n",
            "14172\n",
            "14173\n",
            "14184\n",
            "14200\n",
            "14216\n",
            "14230\n",
            "14235\n",
            "14236\n",
            "14251\n",
            "14261\n",
            "14270\n",
            "14271\n",
            "14282\n",
            "14287\n",
            "14288\n",
            "14334\n",
            "14586\n",
            "14638\n",
            "14661\n",
            "14678\n",
            "14701\n",
            "14739\n",
            "14791\n",
            "14813\n",
            "14848\n",
            "14878\n",
            "14891\n",
            "14950\n",
            "14970\n",
            "14986\n",
            "14991\n",
            "15013\n",
            "15027\n",
            "15035\n",
            "15057\n",
            "15147\n",
            "15250\n",
            "15270\n",
            "15279\n",
            "15309\n",
            "15319\n",
            "15325\n",
            "15344\n",
            "15356\n",
            "15366\n",
            "15383\n",
            "15395\n",
            "15416\n",
            "15480\n",
            "15498\n",
            "15552\n",
            "15605\n",
            "15683\n",
            "15700\n",
            "15733\n",
            "15774\n",
            "15786\n",
            "15791\n",
            "15796\n",
            "15807\n",
            "15814\n",
            "15854\n",
            "15868\n",
            "15889\n",
            "15895\n",
            "15903\n",
            "15911\n",
            "15916\n",
            "15926\n",
            "16007\n",
            "16020\n",
            "16030\n",
            "16268\n",
            "16282\n",
            "16289\n",
            "16305\n",
            "16313\n",
            "16321\n",
            "16329\n",
            "16348\n",
            "16359\n",
            "16365\n",
            "16413\n",
            "16448\n",
            "16467\n",
            "16508\n",
            "16516\n",
            "16545\n",
            "16550\n",
            "16566\n",
            "16581\n",
            "16593\n",
            "16603\n",
            "16624\n",
            "16671\n",
            "16694\n",
            "16699\n",
            "16745\n",
            "16888\n",
            "16895\n",
            "16910\n",
            "16936\n",
            "16956\n",
            "16962\n",
            "16975\n",
            "16981\n",
            "17002\n",
            "17026\n",
            "17037\n",
            "17048\n",
            "17078\n",
            "17113\n",
            "17141\n",
            "17147\n",
            "17167\n",
            "17176\n",
            "17219\n",
            "17243\n",
            "17262\n",
            "17280\n",
            "17295\n",
            "17424\n",
            "17440\n",
            "17457\n",
            "17483\n",
            "17503\n",
            "17527\n",
            "17569\n",
            "17610\n",
            "17629\n",
            "17660\n",
            "17747\n",
            "17870\n",
            "17930\n",
            "17972\n",
            "18029\n",
            "18094\n",
            "18111\n",
            "18144\n",
            "18184\n",
            "18225\n"
          ],
          "name": "stdout"
        }
      ]
    },
    {
      "cell_type": "code",
      "metadata": {
        "id": "jLVryFL4miHO",
        "outputId": "259e42fd-5111-4d87-f2fe-935558d622f9",
        "colab": {
          "base_uri": "https://localhost:8080/"
        }
      },
      "source": [
        "print(indexes)"
      ],
      "execution_count": 109,
      "outputs": [
        {
          "output_type": "stream",
          "text": [
            "defaultdict(<class 'list'>, {'ARTHUR': [13, 37, 83, 147, 162, 188, 225, 250, 271, 316, 343, 393, 454, 468, 530, 1255, 1266, 1293, 1314, 1341, 1373, 1412, 1500, 1536, 1550, 1652, 1682, 1701, 1740, 1766, 1788, 1810, 1842, 1862, 1884, 1983, 2015, 2055, 2083, 2116, 2308, 2399, 2412, 2442, 2469, 2476, 2490, 2501, 2521, 2543, 2562, 2593, 2604, 2636, 2652, 2683, 2708, 2725, 2744, 2763, 2788, 2802, 2824, 2855, 2883, 3899, 4150, 4168, 4203, 4219, 4393, 4440, 4465, 4663, 4746, 4801, 4838, 4878, 4986, 5012, 5052, 5130, 5146, 5183, 5216, 5270, 5358, 5448, 5497, 5534, 5583, 5620, 5799, 5855, 5889, 5920, 9040, 9086, 9104, 9140, 9180, 9205, 9281, 9309, 9367, 9396, 9444, 9478, 9504, 9526, 9536, 9577, 9608, 9623, 13098, 13137, 13166, 13209, 13240, 13256, 13272, 13293, 13319, 13326, 13344, 13361, 13376, 13386, 13412, 13474, 13524, 13542, 13588, 13680, 13719, 13846, 13864, 13908, 13939, 13975, 14093, 14124, 14216, 14251, 14282, 14586, 14638, 14661, 14678, 14701, 14739, 14791, 14848, 14891, 14950, 14970, 14986, 15013, 15035, 15057, 15147, 15250, 15279, 15309, 15325, 15344, 15356, 15366, 15383, 15395, 15416, 15552, 15605, 15683, 15700, 15733, 15774, 15796, 15814, 15854, 15889, 15911, 15926, 16007, 16030, 16268, 16289, 16305, 16329, 16365, 16413, 16467, 16516, 16550, 16593, 16694, 16745, 16895, 16910, 16936, 16962, 16981, 17002, 17037, 17048, 17113, 17147, 17176, 17483, 17503, 17527, 17569, 17610, 17629, 17660, 17747, 17870, 17930, 17972, 18029, 18094, 18111, 18144, 18184, 18225], 'HEAD KNIGHT': [2186, 2202, 2208, 2226, 2232, 2249, 2258, 2261, 2273, 2285, 2288, 2298, 2392, 2405, 2434, 2460, 2479, 2494, 2512, 2534, 2554, 2569, 2597, 2624, 2642, 2673, 2701, 2714, 2734, 2767, 2775, 2796, 2817, 2833, 2859, 2867, 2891, 6090, 6098, 6521, 6535, 6542, 6554, 6565, 6574, 6587, 6601, 6627, 6639, 6651, 6657, 6667, 6683, 6692, 6699, 6718, 6734, 6748, 6778, 6784, 6793, 6820, 6828, 8138, 9254, 9255, 9288, 9289, 9324, 9325, 9338, 9339, 9381, 9382, 9418, 9419, 9458, 9459, 9489, 9490, 9555, 9556, 9599, 9600, 9614, 9615, 9628, 9629, 13563, 13564, 13595, 13596, 13624, 13625, 13667, 13668, 13701, 13702, 13731, 13732, 13811, 13812, 13856, 13857, 13892, 13893, 13914, 13915, 13966, 13967, 13999, 14000, 14113, 14114, 14172, 14173, 14235, 14236, 14270, 14271, 14287, 14288], 'LAUNCELOT': [4429, 4451, 4953, 5608, 8419, 8432, 8442, 8452, 8469, 8489, 8511, 8568, 8629, 8711, 8739, 8769, 8800, 8833, 8852, 11076, 11096, 11145, 11261, 11292, 11317, 11363, 11381, 11464, 11480, 11502, 11519, 11572, 11610, 11634, 11669, 11725, 11749, 11771, 11793, 11845, 11905, 11936, 11971, 12024, 12056, 12088, 12112, 12139, 12243, 12290, 12388, 12663, 12939, 12969, 13004, 13023, 13047, 15786, 15903, 15916, 16020, 16313, 16359, 16448, 16545, 16581, 16603, 16624, 16671, 17078, 17167, 17219, 17243, 17262, 17280, 17295], 'GALAHAD': [4446, 4966, 5135, 5251, 5350, 5411, 7153, 7213, 7256, 7274, 7380, 7401, 7428, 7461, 7500, 7619, 7669, 7691, 7732, 7751, 7771, 7801, 7825, 7850, 7926, 7946, 7965, 8001, 8057, 8407, 8425, 8437, 8447, 8477, 8502, 8523, 8580, 8640, 8729, 8753, 8779, 8818, 8843, 14813, 14878, 14991, 15027, 15270, 15319, 15480, 15498, 15791, 15807, 15868, 15895, 16282, 16321, 16348, 16508, 16566, 16699, 16888, 16956, 16975, 17026, 17141, 17424, 17440, 17457], 'KNIGHTS OF NI': [9257, 9259, 9264, 9266, 9269, 9272, 9275, 9278, 9300, 9306, 9320, 9350, 9389, 9400, 9421, 9426, 9428, 9431, 9434, 9437, 9440, 9512, 9514, 9517, 9520, 9523, 9582, 13144, 13242, 13316, 13323, 13348, 13358, 13363, 13373, 13378, 13383, 13388, 13393, 13521, 13547, 13610, 13616, 13618, 13664, 13697, 13728, 13775, 13789, 13795, 13798, 13801, 13884, 13933, 13961, 13986, 14027, 14184, 14200, 14230, 14261, 14334]})\n"
          ],
          "name": "stdout"
        }
      ]
    },
    {
      "cell_type": "code",
      "metadata": {
        "id": "yKL5yFmKTlAj",
        "outputId": "a1b951ab-4063-4f24-b564-f45ba6a105a8",
        "colab": {
          "base_uri": "https://localhost:8080/",
          "height": 403
        }
      },
      "source": [
        "fig, axes = plt.subplots(5, sharex=True)\n",
        "\n",
        "for index, name in enumerate(names):\n",
        "    print(index)\n",
        "    axes[index].eventplot(indexes[name], label=name, color=\"C{}\".format(index))\n",
        "    axes[index].get_yaxis().set_visible(False)\n",
        "\n",
        "fig.legend()"
      ],
      "execution_count": 110,
      "outputs": [
        {
          "output_type": "stream",
          "text": [
            "0\n",
            "1\n",
            "2\n",
            "3\n",
            "4\n"
          ],
          "name": "stdout"
        },
        {
          "output_type": "execute_result",
          "data": {
            "text/plain": [
              "<matplotlib.legend.Legend at 0x7fd87adb8b38>"
            ]
          },
          "metadata": {
            "tags": []
          },
          "execution_count": 110
        },
        {
          "output_type": "display_data",
          "data": {
            "image/png": "[encoded data removed]",
            "text/plain": [
              "<Figure size 432x288 with 5 Axes>"
            ]
          },
          "metadata": {
            "tags": [],
            "needs_background": "light"
          }
        }
      ]
    },
    {
      "cell_type": "markdown",
      "metadata": {
        "id": "WJTnDhDzUnAx"
      },
      "source": [
        "## Your turn:\n",
        "\n",
        "* Try to plot the NOUNS and clean the Doc whenever necessary adding special cases\n",
        "\n",
        "* Try the same exercise with [this file in the GitHub repo](https://github.com/vfp1/bts-dsf-2020/blob/raw/data/pride_and_prejudice.txt)"
      ]
    },
    {
      "cell_type": "code",
      "metadata": {
        "id": "Yi1SIWOoU81W"
      },
      "source": [
        ""
      ],
      "execution_count": null,
      "outputs": []
    }
  ]
}
